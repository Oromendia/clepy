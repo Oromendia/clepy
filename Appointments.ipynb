{
  "cells": [
    {
      "cell_type": "markdown",
      "metadata": {
        "collapsed": false,
        "id": "RMWDg1bMVMIE"
      },
      "source": [
        "## Welcome!\n",
        "\n",
        "The goal for today is to introduce data analysis through an applied project. Given the variety in experience in this group, three options are available for you:\n",
        "\n",
        "1. Beginner: We will work through this file together, line by line, as I explain reasoning and answer questions as we go along.\n",
        "2. Experienced: You independently work through `appointments_skeleton.ipynb`,  a file similar to this one but without the answers. \n",
        "3. Independent: Using the MIMIC2 ICU data, predict mortality or length of stay (https://www.kaggle.com/drscarlat/mimic2-original-icu/version/1).\n",
        "\n",
        "We will reconvene as a group at 7:30 and share what each one did, debrief on learnings, and answer any remaining questions.\n",
        "\n",
        "Choose your adventure!\n",
        "\n",
        "------\n",
        "\n",
        "## Missed Appointments\n",
        "\n",
        "A clinic is in trouble, as they have been wasting resources every month when staff is available but rooms are empty. We have been tasked with understanding why people who receive treatment instructions do not show up at the next appointment time. How often are patients missing appointments? Who is missing most often? What are the contributing factors for missing appointments?\n",
        "\n",
        "This example is based on a Kaggle dataset and strongly inspired by Veronika Rovnik's blog post.\n",
        "\n",
        "Blog: https://towardsdatascience.com/exploratory-analysis-python-kaggle-data-b0afb6ec1788\n",
        "\n",
        "Data: https://www.kaggle.com/joniarroba/noshowappointments"
      ]
    },
    {
      "cell_type": "markdown",
      "metadata": {
        "collapsed": false,
        "id": "5jnBDbiAVMII"
      },
      "source": [
        "## Set up\n",
        "We start by importing the main libraries we will use. The big one for data munging is `pandas`."
      ]
    },
    {
      "cell_type": "code",
      "execution_count": null,
      "metadata": {
        "id": "7Uw7MZD0VMIJ"
      },
      "outputs": [],
      "source": [
        "# For data processing:\n",
        "import numpy as np\n",
        "import pandas as pd\n",
        "# For plotting:\n",
        "import matplotlib.pyplot as plt\n",
        "import seaborn as sns\n",
        "# For modeling:\n",
        "import sklearn as skl\n",
        "from sklearn.preprocessing import OneHotEncoder\n",
        "from sklearn.tree import DecisionTreeClassifier\n",
        "from sklearn import tree\n",
        "%matplotlib inline"
      ]
    },
    {
      "cell_type": "markdown",
      "metadata": {
        "collapsed": false,
        "id": "5mjVS0QIVMIK"
      },
      "source": [
        "### Read in data\n",
        "After you’ve downloaded the data from Kaggle, the next step is to build a pandas DataFrame based on the CSV data."
      ]
    },
    {
      "cell_type": "code",
      "execution_count": null,
      "metadata": {
        "id": "PUhMap_TVMIK"
      },
      "outputs": [],
      "source": [
        "df = pd.read_csv('appts_dat.csv')\n",
        "# Naming your data \"df\" is common practice, and you will see many examples do that"
      ]
    },
    {
      "cell_type": "markdown",
      "metadata": {
        "collapsed": false,
        "id": "xoYn9jKZVMIL"
      },
      "source": [
        "### Profile the data\n",
        "Before cleaning the data, let’s check the overall quality of the data and data types of each column.\n",
        "What columns does the data have? How many patients are available?"
      ]
    },
    {
      "cell_type": "code",
      "execution_count": null,
      "metadata": {
        "id": "6hazPfUnVMIL",
        "outputId": "3f184dcb-858d-41f5-b1c0-9f59a4b5f9db",
        "colab": {
          "base_uri": "https://localhost:8080/",
          "height": 300
        }
      },
      "outputs": [
        {
          "output_type": "execute_result",
          "data": {
            "text/plain": [
              "          PatientId  AppointmentID            Age    Scholarship  \\\n",
              "count  1.105270e+05   1.105270e+05  110527.000000  110527.000000   \n",
              "mean   1.474963e+14   5.675305e+06      37.088874       0.098266   \n",
              "std    2.560949e+14   7.129575e+04      23.110205       0.297675   \n",
              "min    3.921784e+04   5.030230e+06      -1.000000       0.000000   \n",
              "25%    4.172614e+12   5.640286e+06      18.000000       0.000000   \n",
              "50%    3.173184e+13   5.680573e+06      37.000000       0.000000   \n",
              "75%    9.439172e+13   5.725524e+06      55.000000       0.000000   \n",
              "max    9.999816e+14   5.790484e+06     115.000000       1.000000   \n",
              "\n",
              "        Hipertension       Diabetes     Alcoholism        Handcap  \\\n",
              "count  110527.000000  110527.000000  110527.000000  110527.000000   \n",
              "mean        0.197246       0.071865       0.030400       0.022248   \n",
              "std         0.397921       0.258265       0.171686       0.161543   \n",
              "min         0.000000       0.000000       0.000000       0.000000   \n",
              "25%         0.000000       0.000000       0.000000       0.000000   \n",
              "50%         0.000000       0.000000       0.000000       0.000000   \n",
              "75%         0.000000       0.000000       0.000000       0.000000   \n",
              "max         1.000000       1.000000       1.000000       4.000000   \n",
              "\n",
              "        SMS_received  \n",
              "count  110527.000000  \n",
              "mean        0.321026  \n",
              "std         0.466873  \n",
              "min         0.000000  \n",
              "25%         0.000000  \n",
              "50%         0.000000  \n",
              "75%         1.000000  \n",
              "max         1.000000  "
            ],
            "text/html": [
              "\n",
              "  <div id=\"df-21b15d17-7b62-42a3-9369-a61a7f96f197\">\n",
              "    <div class=\"colab-df-container\">\n",
              "      <div>\n",
              "<style scoped>\n",
              "    .dataframe tbody tr th:only-of-type {\n",
              "        vertical-align: middle;\n",
              "    }\n",
              "\n",
              "    .dataframe tbody tr th {\n",
              "        vertical-align: top;\n",
              "    }\n",
              "\n",
              "    .dataframe thead th {\n",
              "        text-align: right;\n",
              "    }\n",
              "</style>\n",
              "<table border=\"1\" class=\"dataframe\">\n",
              "  <thead>\n",
              "    <tr style=\"text-align: right;\">\n",
              "      <th></th>\n",
              "      <th>PatientId</th>\n",
              "      <th>AppointmentID</th>\n",
              "      <th>Age</th>\n",
              "      <th>Scholarship</th>\n",
              "      <th>Hipertension</th>\n",
              "      <th>Diabetes</th>\n",
              "      <th>Alcoholism</th>\n",
              "      <th>Handcap</th>\n",
              "      <th>SMS_received</th>\n",
              "    </tr>\n",
              "  </thead>\n",
              "  <tbody>\n",
              "    <tr>\n",
              "      <th>count</th>\n",
              "      <td>1.105270e+05</td>\n",
              "      <td>1.105270e+05</td>\n",
              "      <td>110527.000000</td>\n",
              "      <td>110527.000000</td>\n",
              "      <td>110527.000000</td>\n",
              "      <td>110527.000000</td>\n",
              "      <td>110527.000000</td>\n",
              "      <td>110527.000000</td>\n",
              "      <td>110527.000000</td>\n",
              "    </tr>\n",
              "    <tr>\n",
              "      <th>mean</th>\n",
              "      <td>1.474963e+14</td>\n",
              "      <td>5.675305e+06</td>\n",
              "      <td>37.088874</td>\n",
              "      <td>0.098266</td>\n",
              "      <td>0.197246</td>\n",
              "      <td>0.071865</td>\n",
              "      <td>0.030400</td>\n",
              "      <td>0.022248</td>\n",
              "      <td>0.321026</td>\n",
              "    </tr>\n",
              "    <tr>\n",
              "      <th>std</th>\n",
              "      <td>2.560949e+14</td>\n",
              "      <td>7.129575e+04</td>\n",
              "      <td>23.110205</td>\n",
              "      <td>0.297675</td>\n",
              "      <td>0.397921</td>\n",
              "      <td>0.258265</td>\n",
              "      <td>0.171686</td>\n",
              "      <td>0.161543</td>\n",
              "      <td>0.466873</td>\n",
              "    </tr>\n",
              "    <tr>\n",
              "      <th>min</th>\n",
              "      <td>3.921784e+04</td>\n",
              "      <td>5.030230e+06</td>\n",
              "      <td>-1.000000</td>\n",
              "      <td>0.000000</td>\n",
              "      <td>0.000000</td>\n",
              "      <td>0.000000</td>\n",
              "      <td>0.000000</td>\n",
              "      <td>0.000000</td>\n",
              "      <td>0.000000</td>\n",
              "    </tr>\n",
              "    <tr>\n",
              "      <th>25%</th>\n",
              "      <td>4.172614e+12</td>\n",
              "      <td>5.640286e+06</td>\n",
              "      <td>18.000000</td>\n",
              "      <td>0.000000</td>\n",
              "      <td>0.000000</td>\n",
              "      <td>0.000000</td>\n",
              "      <td>0.000000</td>\n",
              "      <td>0.000000</td>\n",
              "      <td>0.000000</td>\n",
              "    </tr>\n",
              "    <tr>\n",
              "      <th>50%</th>\n",
              "      <td>3.173184e+13</td>\n",
              "      <td>5.680573e+06</td>\n",
              "      <td>37.000000</td>\n",
              "      <td>0.000000</td>\n",
              "      <td>0.000000</td>\n",
              "      <td>0.000000</td>\n",
              "      <td>0.000000</td>\n",
              "      <td>0.000000</td>\n",
              "      <td>0.000000</td>\n",
              "    </tr>\n",
              "    <tr>\n",
              "      <th>75%</th>\n",
              "      <td>9.439172e+13</td>\n",
              "      <td>5.725524e+06</td>\n",
              "      <td>55.000000</td>\n",
              "      <td>0.000000</td>\n",
              "      <td>0.000000</td>\n",
              "      <td>0.000000</td>\n",
              "      <td>0.000000</td>\n",
              "      <td>0.000000</td>\n",
              "      <td>1.000000</td>\n",
              "    </tr>\n",
              "    <tr>\n",
              "      <th>max</th>\n",
              "      <td>9.999816e+14</td>\n",
              "      <td>5.790484e+06</td>\n",
              "      <td>115.000000</td>\n",
              "      <td>1.000000</td>\n",
              "      <td>1.000000</td>\n",
              "      <td>1.000000</td>\n",
              "      <td>1.000000</td>\n",
              "      <td>4.000000</td>\n",
              "      <td>1.000000</td>\n",
              "    </tr>\n",
              "  </tbody>\n",
              "</table>\n",
              "</div>\n",
              "      <button class=\"colab-df-convert\" onclick=\"convertToInteractive('df-21b15d17-7b62-42a3-9369-a61a7f96f197')\"\n",
              "              title=\"Convert this dataframe to an interactive table.\"\n",
              "              style=\"display:none;\">\n",
              "        \n",
              "  <svg xmlns=\"http://www.w3.org/2000/svg\" height=\"24px\"viewBox=\"0 0 24 24\"\n",
              "       width=\"24px\">\n",
              "    <path d=\"M0 0h24v24H0V0z\" fill=\"none\"/>\n",
              "    <path d=\"M18.56 5.44l.94 2.06.94-2.06 2.06-.94-2.06-.94-.94-2.06-.94 2.06-2.06.94zm-11 1L8.5 8.5l.94-2.06 2.06-.94-2.06-.94L8.5 2.5l-.94 2.06-2.06.94zm10 10l.94 2.06.94-2.06 2.06-.94-2.06-.94-.94-2.06-.94 2.06-2.06.94z\"/><path d=\"M17.41 7.96l-1.37-1.37c-.4-.4-.92-.59-1.43-.59-.52 0-1.04.2-1.43.59L10.3 9.45l-7.72 7.72c-.78.78-.78 2.05 0 2.83L4 21.41c.39.39.9.59 1.41.59.51 0 1.02-.2 1.41-.59l7.78-7.78 2.81-2.81c.8-.78.8-2.07 0-2.86zM5.41 20L4 18.59l7.72-7.72 1.47 1.35L5.41 20z\"/>\n",
              "  </svg>\n",
              "      </button>\n",
              "      \n",
              "  <style>\n",
              "    .colab-df-container {\n",
              "      display:flex;\n",
              "      flex-wrap:wrap;\n",
              "      gap: 12px;\n",
              "    }\n",
              "\n",
              "    .colab-df-convert {\n",
              "      background-color: #E8F0FE;\n",
              "      border: none;\n",
              "      border-radius: 50%;\n",
              "      cursor: pointer;\n",
              "      display: none;\n",
              "      fill: #1967D2;\n",
              "      height: 32px;\n",
              "      padding: 0 0 0 0;\n",
              "      width: 32px;\n",
              "    }\n",
              "\n",
              "    .colab-df-convert:hover {\n",
              "      background-color: #E2EBFA;\n",
              "      box-shadow: 0px 1px 2px rgba(60, 64, 67, 0.3), 0px 1px 3px 1px rgba(60, 64, 67, 0.15);\n",
              "      fill: #174EA6;\n",
              "    }\n",
              "\n",
              "    [theme=dark] .colab-df-convert {\n",
              "      background-color: #3B4455;\n",
              "      fill: #D2E3FC;\n",
              "    }\n",
              "\n",
              "    [theme=dark] .colab-df-convert:hover {\n",
              "      background-color: #434B5C;\n",
              "      box-shadow: 0px 1px 3px 1px rgba(0, 0, 0, 0.15);\n",
              "      filter: drop-shadow(0px 1px 2px rgba(0, 0, 0, 0.3));\n",
              "      fill: #FFFFFF;\n",
              "    }\n",
              "  </style>\n",
              "\n",
              "      <script>\n",
              "        const buttonEl =\n",
              "          document.querySelector('#df-21b15d17-7b62-42a3-9369-a61a7f96f197 button.colab-df-convert');\n",
              "        buttonEl.style.display =\n",
              "          google.colab.kernel.accessAllowed ? 'block' : 'none';\n",
              "\n",
              "        async function convertToInteractive(key) {\n",
              "          const element = document.querySelector('#df-21b15d17-7b62-42a3-9369-a61a7f96f197');\n",
              "          const dataTable =\n",
              "            await google.colab.kernel.invokeFunction('convertToInteractive',\n",
              "                                                     [key], {});\n",
              "          if (!dataTable) return;\n",
              "\n",
              "          const docLinkHtml = 'Like what you see? Visit the ' +\n",
              "            '<a target=\"_blank\" href=https://colab.research.google.com/notebooks/data_table.ipynb>data table notebook</a>'\n",
              "            + ' to learn more about interactive tables.';\n",
              "          element.innerHTML = '';\n",
              "          dataTable['output_type'] = 'display_data';\n",
              "          await google.colab.output.renderOutput(dataTable, element);\n",
              "          const docLink = document.createElement('div');\n",
              "          docLink.innerHTML = docLinkHtml;\n",
              "          element.appendChild(docLink);\n",
              "        }\n",
              "      </script>\n",
              "    </div>\n",
              "  </div>\n",
              "  "
            ]
          },
          "metadata": {},
          "execution_count": 69
        }
      ],
      "source": [
        "df.describe()"
      ]
    },
    {
      "cell_type": "code",
      "execution_count": null,
      "metadata": {
        "scrolled": true,
        "id": "6ZA9590nVMIM",
        "outputId": "c316fb2d-b444-487e-8516-5249d78cf0dc",
        "colab": {
          "base_uri": "https://localhost:8080/"
        }
      },
      "outputs": [
        {
          "output_type": "stream",
          "name": "stdout",
          "text": [
            "<class 'pandas.core.frame.DataFrame'>\n",
            "RangeIndex: 110527 entries, 0 to 110526\n",
            "Data columns (total 14 columns):\n",
            " #   Column          Non-Null Count   Dtype  \n",
            "---  ------          --------------   -----  \n",
            " 0   PatientId       110527 non-null  float64\n",
            " 1   AppointmentID   110527 non-null  int64  \n",
            " 2   Gender          110527 non-null  object \n",
            " 3   ScheduledDay    110527 non-null  object \n",
            " 4   AppointmentDay  110527 non-null  object \n",
            " 5   Age             110527 non-null  int64  \n",
            " 6   Neighbourhood   110527 non-null  object \n",
            " 7   Scholarship     110527 non-null  int64  \n",
            " 8   Hipertension    110527 non-null  int64  \n",
            " 9   Diabetes        110527 non-null  int64  \n",
            " 10  Alcoholism      110527 non-null  int64  \n",
            " 11  Handcap         110527 non-null  int64  \n",
            " 12  SMS_received    110527 non-null  int64  \n",
            " 13  No-show         110527 non-null  object \n",
            "dtypes: float64(1), int64(8), object(5)\n",
            "memory usage: 11.8+ MB\n"
          ]
        }
      ],
      "source": [
        "df.info()"
      ]
    },
    {
      "cell_type": "code",
      "execution_count": null,
      "metadata": {
        "id": "IHtFZdzyVMIM",
        "outputId": "bbf57584-d9ba-4600-9b63-73f9e7daf1d0",
        "colab": {
          "base_uri": "https://localhost:8080/",
          "height": 250
        }
      },
      "outputs": [
        {
          "output_type": "execute_result",
          "data": {
            "text/plain": [
              "      PatientId  AppointmentID Gender          ScheduledDay  \\\n",
              "0  2.987250e+13        5642903      F  2016-04-29T18:38:08Z   \n",
              "1  5.589978e+14        5642503      M  2016-04-29T16:08:27Z   \n",
              "2  4.262962e+12        5642549      F  2016-04-29T16:19:04Z   \n",
              "3  8.679512e+11        5642828      F  2016-04-29T17:29:31Z   \n",
              "4  8.841186e+12        5642494      F  2016-04-29T16:07:23Z   \n",
              "\n",
              "         AppointmentDay  Age      Neighbourhood  Scholarship  Hipertension  \\\n",
              "0  2016-04-29T00:00:00Z   62    JARDIM DA PENHA            0             1   \n",
              "1  2016-04-29T00:00:00Z   56    JARDIM DA PENHA            0             0   \n",
              "2  2016-04-29T00:00:00Z   62      MATA DA PRAIA            0             0   \n",
              "3  2016-04-29T00:00:00Z    8  PONTAL DE CAMBURI            0             0   \n",
              "4  2016-04-29T00:00:00Z   56    JARDIM DA PENHA            0             1   \n",
              "\n",
              "   Diabetes  Alcoholism  Handcap  SMS_received No-show  \n",
              "0         0           0        0             0      No  \n",
              "1         0           0        0             0      No  \n",
              "2         0           0        0             0      No  \n",
              "3         0           0        0             0      No  \n",
              "4         1           0        0             0      No  "
            ],
            "text/html": [
              "\n",
              "  <div id=\"df-8bcb9801-d69f-4aff-bec5-aa984001a99a\">\n",
              "    <div class=\"colab-df-container\">\n",
              "      <div>\n",
              "<style scoped>\n",
              "    .dataframe tbody tr th:only-of-type {\n",
              "        vertical-align: middle;\n",
              "    }\n",
              "\n",
              "    .dataframe tbody tr th {\n",
              "        vertical-align: top;\n",
              "    }\n",
              "\n",
              "    .dataframe thead th {\n",
              "        text-align: right;\n",
              "    }\n",
              "</style>\n",
              "<table border=\"1\" class=\"dataframe\">\n",
              "  <thead>\n",
              "    <tr style=\"text-align: right;\">\n",
              "      <th></th>\n",
              "      <th>PatientId</th>\n",
              "      <th>AppointmentID</th>\n",
              "      <th>Gender</th>\n",
              "      <th>ScheduledDay</th>\n",
              "      <th>AppointmentDay</th>\n",
              "      <th>Age</th>\n",
              "      <th>Neighbourhood</th>\n",
              "      <th>Scholarship</th>\n",
              "      <th>Hipertension</th>\n",
              "      <th>Diabetes</th>\n",
              "      <th>Alcoholism</th>\n",
              "      <th>Handcap</th>\n",
              "      <th>SMS_received</th>\n",
              "      <th>No-show</th>\n",
              "    </tr>\n",
              "  </thead>\n",
              "  <tbody>\n",
              "    <tr>\n",
              "      <th>0</th>\n",
              "      <td>2.987250e+13</td>\n",
              "      <td>5642903</td>\n",
              "      <td>F</td>\n",
              "      <td>2016-04-29T18:38:08Z</td>\n",
              "      <td>2016-04-29T00:00:00Z</td>\n",
              "      <td>62</td>\n",
              "      <td>JARDIM DA PENHA</td>\n",
              "      <td>0</td>\n",
              "      <td>1</td>\n",
              "      <td>0</td>\n",
              "      <td>0</td>\n",
              "      <td>0</td>\n",
              "      <td>0</td>\n",
              "      <td>No</td>\n",
              "    </tr>\n",
              "    <tr>\n",
              "      <th>1</th>\n",
              "      <td>5.589978e+14</td>\n",
              "      <td>5642503</td>\n",
              "      <td>M</td>\n",
              "      <td>2016-04-29T16:08:27Z</td>\n",
              "      <td>2016-04-29T00:00:00Z</td>\n",
              "      <td>56</td>\n",
              "      <td>JARDIM DA PENHA</td>\n",
              "      <td>0</td>\n",
              "      <td>0</td>\n",
              "      <td>0</td>\n",
              "      <td>0</td>\n",
              "      <td>0</td>\n",
              "      <td>0</td>\n",
              "      <td>No</td>\n",
              "    </tr>\n",
              "    <tr>\n",
              "      <th>2</th>\n",
              "      <td>4.262962e+12</td>\n",
              "      <td>5642549</td>\n",
              "      <td>F</td>\n",
              "      <td>2016-04-29T16:19:04Z</td>\n",
              "      <td>2016-04-29T00:00:00Z</td>\n",
              "      <td>62</td>\n",
              "      <td>MATA DA PRAIA</td>\n",
              "      <td>0</td>\n",
              "      <td>0</td>\n",
              "      <td>0</td>\n",
              "      <td>0</td>\n",
              "      <td>0</td>\n",
              "      <td>0</td>\n",
              "      <td>No</td>\n",
              "    </tr>\n",
              "    <tr>\n",
              "      <th>3</th>\n",
              "      <td>8.679512e+11</td>\n",
              "      <td>5642828</td>\n",
              "      <td>F</td>\n",
              "      <td>2016-04-29T17:29:31Z</td>\n",
              "      <td>2016-04-29T00:00:00Z</td>\n",
              "      <td>8</td>\n",
              "      <td>PONTAL DE CAMBURI</td>\n",
              "      <td>0</td>\n",
              "      <td>0</td>\n",
              "      <td>0</td>\n",
              "      <td>0</td>\n",
              "      <td>0</td>\n",
              "      <td>0</td>\n",
              "      <td>No</td>\n",
              "    </tr>\n",
              "    <tr>\n",
              "      <th>4</th>\n",
              "      <td>8.841186e+12</td>\n",
              "      <td>5642494</td>\n",
              "      <td>F</td>\n",
              "      <td>2016-04-29T16:07:23Z</td>\n",
              "      <td>2016-04-29T00:00:00Z</td>\n",
              "      <td>56</td>\n",
              "      <td>JARDIM DA PENHA</td>\n",
              "      <td>0</td>\n",
              "      <td>1</td>\n",
              "      <td>1</td>\n",
              "      <td>0</td>\n",
              "      <td>0</td>\n",
              "      <td>0</td>\n",
              "      <td>No</td>\n",
              "    </tr>\n",
              "  </tbody>\n",
              "</table>\n",
              "</div>\n",
              "      <button class=\"colab-df-convert\" onclick=\"convertToInteractive('df-8bcb9801-d69f-4aff-bec5-aa984001a99a')\"\n",
              "              title=\"Convert this dataframe to an interactive table.\"\n",
              "              style=\"display:none;\">\n",
              "        \n",
              "  <svg xmlns=\"http://www.w3.org/2000/svg\" height=\"24px\"viewBox=\"0 0 24 24\"\n",
              "       width=\"24px\">\n",
              "    <path d=\"M0 0h24v24H0V0z\" fill=\"none\"/>\n",
              "    <path d=\"M18.56 5.44l.94 2.06.94-2.06 2.06-.94-2.06-.94-.94-2.06-.94 2.06-2.06.94zm-11 1L8.5 8.5l.94-2.06 2.06-.94-2.06-.94L8.5 2.5l-.94 2.06-2.06.94zm10 10l.94 2.06.94-2.06 2.06-.94-2.06-.94-.94-2.06-.94 2.06-2.06.94z\"/><path d=\"M17.41 7.96l-1.37-1.37c-.4-.4-.92-.59-1.43-.59-.52 0-1.04.2-1.43.59L10.3 9.45l-7.72 7.72c-.78.78-.78 2.05 0 2.83L4 21.41c.39.39.9.59 1.41.59.51 0 1.02-.2 1.41-.59l7.78-7.78 2.81-2.81c.8-.78.8-2.07 0-2.86zM5.41 20L4 18.59l7.72-7.72 1.47 1.35L5.41 20z\"/>\n",
              "  </svg>\n",
              "      </button>\n",
              "      \n",
              "  <style>\n",
              "    .colab-df-container {\n",
              "      display:flex;\n",
              "      flex-wrap:wrap;\n",
              "      gap: 12px;\n",
              "    }\n",
              "\n",
              "    .colab-df-convert {\n",
              "      background-color: #E8F0FE;\n",
              "      border: none;\n",
              "      border-radius: 50%;\n",
              "      cursor: pointer;\n",
              "      display: none;\n",
              "      fill: #1967D2;\n",
              "      height: 32px;\n",
              "      padding: 0 0 0 0;\n",
              "      width: 32px;\n",
              "    }\n",
              "\n",
              "    .colab-df-convert:hover {\n",
              "      background-color: #E2EBFA;\n",
              "      box-shadow: 0px 1px 2px rgba(60, 64, 67, 0.3), 0px 1px 3px 1px rgba(60, 64, 67, 0.15);\n",
              "      fill: #174EA6;\n",
              "    }\n",
              "\n",
              "    [theme=dark] .colab-df-convert {\n",
              "      background-color: #3B4455;\n",
              "      fill: #D2E3FC;\n",
              "    }\n",
              "\n",
              "    [theme=dark] .colab-df-convert:hover {\n",
              "      background-color: #434B5C;\n",
              "      box-shadow: 0px 1px 3px 1px rgba(0, 0, 0, 0.15);\n",
              "      filter: drop-shadow(0px 1px 2px rgba(0, 0, 0, 0.3));\n",
              "      fill: #FFFFFF;\n",
              "    }\n",
              "  </style>\n",
              "\n",
              "      <script>\n",
              "        const buttonEl =\n",
              "          document.querySelector('#df-8bcb9801-d69f-4aff-bec5-aa984001a99a button.colab-df-convert');\n",
              "        buttonEl.style.display =\n",
              "          google.colab.kernel.accessAllowed ? 'block' : 'none';\n",
              "\n",
              "        async function convertToInteractive(key) {\n",
              "          const element = document.querySelector('#df-8bcb9801-d69f-4aff-bec5-aa984001a99a');\n",
              "          const dataTable =\n",
              "            await google.colab.kernel.invokeFunction('convertToInteractive',\n",
              "                                                     [key], {});\n",
              "          if (!dataTable) return;\n",
              "\n",
              "          const docLinkHtml = 'Like what you see? Visit the ' +\n",
              "            '<a target=\"_blank\" href=https://colab.research.google.com/notebooks/data_table.ipynb>data table notebook</a>'\n",
              "            + ' to learn more about interactive tables.';\n",
              "          element.innerHTML = '';\n",
              "          dataTable['output_type'] = 'display_data';\n",
              "          await google.colab.output.renderOutput(dataTable, element);\n",
              "          const docLink = document.createElement('div');\n",
              "          docLink.innerHTML = docLinkHtml;\n",
              "          element.appendChild(docLink);\n",
              "        }\n",
              "      </script>\n",
              "    </div>\n",
              "  </div>\n",
              "  "
            ]
          },
          "metadata": {},
          "execution_count": 71
        }
      ],
      "source": [
        "df.head()"
      ]
    },
    {
      "cell_type": "code",
      "execution_count": null,
      "metadata": {
        "id": "_E0WDbMHVMIN",
        "outputId": "86eef569-c210-4015-da8c-9b3bccabf1fd",
        "colab": {
          "base_uri": "https://localhost:8080/"
        }
      },
      "outputs": [
        {
          "output_type": "stream",
          "name": "stdout",
          "text": [
            "Number of records (patients):  110527\n",
            "Number of columns (features):  14\n"
          ]
        }
      ],
      "source": [
        "print(\"Number of records (patients): \", df.shape[0])\n",
        "print(\"Number of columns (features): \", df.shape[1])"
      ]
    },
    {
      "cell_type": "markdown",
      "metadata": {
        "collapsed": false,
        "id": "OZ_WxIyKVMIN"
      },
      "source": [
        "In our analysis, what is the primary ouotcome, or the characteristic of interest?"
      ]
    },
    {
      "cell_type": "markdown",
      "metadata": {
        "collapsed": false,
        "id": "mf-BaVH0VMIO"
      },
      "source": [
        "The columns are called \"features\" of the data. They are also called \"covariates\", \"predictors\", or even \"correlates\". These are the characteristics we will use to estimate our primary outcome."
      ]
    },
    {
      "cell_type": "markdown",
      "metadata": {
        "collapsed": false,
        "id": "mo_BzaonVMIO"
      },
      "source": [
        "### Fix the column names\n",
        "You may have noticed that our features contain typing errors.\n",
        "Let’s rename misspelled column names."
      ]
    },
    {
      "cell_type": "code",
      "execution_count": null,
      "metadata": {
        "id": "H6o0sHg2VMIP",
        "outputId": "678ced4b-0d45-480c-eeed-0234091958a3",
        "colab": {
          "base_uri": "https://localhost:8080/",
          "height": 250
        }
      },
      "outputs": [
        {
          "output_type": "execute_result",
          "data": {
            "text/plain": [
              "      PatientId  AppointmentID Gender          ScheduledDay  \\\n",
              "0  2.987250e+13        5642903      F  2016-04-29T18:38:08Z   \n",
              "1  5.589978e+14        5642503      M  2016-04-29T16:08:27Z   \n",
              "2  4.262962e+12        5642549      F  2016-04-29T16:19:04Z   \n",
              "3  8.679512e+11        5642828      F  2016-04-29T17:29:31Z   \n",
              "4  8.841186e+12        5642494      F  2016-04-29T16:07:23Z   \n",
              "\n",
              "         AppointmentDay  Age      Neighbourhood  Scholarship  Hypertension  \\\n",
              "0  2016-04-29T00:00:00Z   62    JARDIM DA PENHA            0             1   \n",
              "1  2016-04-29T00:00:00Z   56    JARDIM DA PENHA            0             0   \n",
              "2  2016-04-29T00:00:00Z   62      MATA DA PRAIA            0             0   \n",
              "3  2016-04-29T00:00:00Z    8  PONTAL DE CAMBURI            0             0   \n",
              "4  2016-04-29T00:00:00Z   56    JARDIM DA PENHA            0             1   \n",
              "\n",
              "   Diabetes  Alcoholism  Handcap  SMSReceived No-show  \n",
              "0         0           0        0            0      No  \n",
              "1         0           0        0            0      No  \n",
              "2         0           0        0            0      No  \n",
              "3         0           0        0            0      No  \n",
              "4         1           0        0            0      No  "
            ],
            "text/html": [
              "\n",
              "  <div id=\"df-89d1f10a-1832-42a0-b455-81eac0f9f76d\">\n",
              "    <div class=\"colab-df-container\">\n",
              "      <div>\n",
              "<style scoped>\n",
              "    .dataframe tbody tr th:only-of-type {\n",
              "        vertical-align: middle;\n",
              "    }\n",
              "\n",
              "    .dataframe tbody tr th {\n",
              "        vertical-align: top;\n",
              "    }\n",
              "\n",
              "    .dataframe thead th {\n",
              "        text-align: right;\n",
              "    }\n",
              "</style>\n",
              "<table border=\"1\" class=\"dataframe\">\n",
              "  <thead>\n",
              "    <tr style=\"text-align: right;\">\n",
              "      <th></th>\n",
              "      <th>PatientId</th>\n",
              "      <th>AppointmentID</th>\n",
              "      <th>Gender</th>\n",
              "      <th>ScheduledDay</th>\n",
              "      <th>AppointmentDay</th>\n",
              "      <th>Age</th>\n",
              "      <th>Neighbourhood</th>\n",
              "      <th>Scholarship</th>\n",
              "      <th>Hypertension</th>\n",
              "      <th>Diabetes</th>\n",
              "      <th>Alcoholism</th>\n",
              "      <th>Handcap</th>\n",
              "      <th>SMSReceived</th>\n",
              "      <th>No-show</th>\n",
              "    </tr>\n",
              "  </thead>\n",
              "  <tbody>\n",
              "    <tr>\n",
              "      <th>0</th>\n",
              "      <td>2.987250e+13</td>\n",
              "      <td>5642903</td>\n",
              "      <td>F</td>\n",
              "      <td>2016-04-29T18:38:08Z</td>\n",
              "      <td>2016-04-29T00:00:00Z</td>\n",
              "      <td>62</td>\n",
              "      <td>JARDIM DA PENHA</td>\n",
              "      <td>0</td>\n",
              "      <td>1</td>\n",
              "      <td>0</td>\n",
              "      <td>0</td>\n",
              "      <td>0</td>\n",
              "      <td>0</td>\n",
              "      <td>No</td>\n",
              "    </tr>\n",
              "    <tr>\n",
              "      <th>1</th>\n",
              "      <td>5.589978e+14</td>\n",
              "      <td>5642503</td>\n",
              "      <td>M</td>\n",
              "      <td>2016-04-29T16:08:27Z</td>\n",
              "      <td>2016-04-29T00:00:00Z</td>\n",
              "      <td>56</td>\n",
              "      <td>JARDIM DA PENHA</td>\n",
              "      <td>0</td>\n",
              "      <td>0</td>\n",
              "      <td>0</td>\n",
              "      <td>0</td>\n",
              "      <td>0</td>\n",
              "      <td>0</td>\n",
              "      <td>No</td>\n",
              "    </tr>\n",
              "    <tr>\n",
              "      <th>2</th>\n",
              "      <td>4.262962e+12</td>\n",
              "      <td>5642549</td>\n",
              "      <td>F</td>\n",
              "      <td>2016-04-29T16:19:04Z</td>\n",
              "      <td>2016-04-29T00:00:00Z</td>\n",
              "      <td>62</td>\n",
              "      <td>MATA DA PRAIA</td>\n",
              "      <td>0</td>\n",
              "      <td>0</td>\n",
              "      <td>0</td>\n",
              "      <td>0</td>\n",
              "      <td>0</td>\n",
              "      <td>0</td>\n",
              "      <td>No</td>\n",
              "    </tr>\n",
              "    <tr>\n",
              "      <th>3</th>\n",
              "      <td>8.679512e+11</td>\n",
              "      <td>5642828</td>\n",
              "      <td>F</td>\n",
              "      <td>2016-04-29T17:29:31Z</td>\n",
              "      <td>2016-04-29T00:00:00Z</td>\n",
              "      <td>8</td>\n",
              "      <td>PONTAL DE CAMBURI</td>\n",
              "      <td>0</td>\n",
              "      <td>0</td>\n",
              "      <td>0</td>\n",
              "      <td>0</td>\n",
              "      <td>0</td>\n",
              "      <td>0</td>\n",
              "      <td>No</td>\n",
              "    </tr>\n",
              "    <tr>\n",
              "      <th>4</th>\n",
              "      <td>8.841186e+12</td>\n",
              "      <td>5642494</td>\n",
              "      <td>F</td>\n",
              "      <td>2016-04-29T16:07:23Z</td>\n",
              "      <td>2016-04-29T00:00:00Z</td>\n",
              "      <td>56</td>\n",
              "      <td>JARDIM DA PENHA</td>\n",
              "      <td>0</td>\n",
              "      <td>1</td>\n",
              "      <td>1</td>\n",
              "      <td>0</td>\n",
              "      <td>0</td>\n",
              "      <td>0</td>\n",
              "      <td>No</td>\n",
              "    </tr>\n",
              "  </tbody>\n",
              "</table>\n",
              "</div>\n",
              "      <button class=\"colab-df-convert\" onclick=\"convertToInteractive('df-89d1f10a-1832-42a0-b455-81eac0f9f76d')\"\n",
              "              title=\"Convert this dataframe to an interactive table.\"\n",
              "              style=\"display:none;\">\n",
              "        \n",
              "  <svg xmlns=\"http://www.w3.org/2000/svg\" height=\"24px\"viewBox=\"0 0 24 24\"\n",
              "       width=\"24px\">\n",
              "    <path d=\"M0 0h24v24H0V0z\" fill=\"none\"/>\n",
              "    <path d=\"M18.56 5.44l.94 2.06.94-2.06 2.06-.94-2.06-.94-.94-2.06-.94 2.06-2.06.94zm-11 1L8.5 8.5l.94-2.06 2.06-.94-2.06-.94L8.5 2.5l-.94 2.06-2.06.94zm10 10l.94 2.06.94-2.06 2.06-.94-2.06-.94-.94-2.06-.94 2.06-2.06.94z\"/><path d=\"M17.41 7.96l-1.37-1.37c-.4-.4-.92-.59-1.43-.59-.52 0-1.04.2-1.43.59L10.3 9.45l-7.72 7.72c-.78.78-.78 2.05 0 2.83L4 21.41c.39.39.9.59 1.41.59.51 0 1.02-.2 1.41-.59l7.78-7.78 2.81-2.81c.8-.78.8-2.07 0-2.86zM5.41 20L4 18.59l7.72-7.72 1.47 1.35L5.41 20z\"/>\n",
              "  </svg>\n",
              "      </button>\n",
              "      \n",
              "  <style>\n",
              "    .colab-df-container {\n",
              "      display:flex;\n",
              "      flex-wrap:wrap;\n",
              "      gap: 12px;\n",
              "    }\n",
              "\n",
              "    .colab-df-convert {\n",
              "      background-color: #E8F0FE;\n",
              "      border: none;\n",
              "      border-radius: 50%;\n",
              "      cursor: pointer;\n",
              "      display: none;\n",
              "      fill: #1967D2;\n",
              "      height: 32px;\n",
              "      padding: 0 0 0 0;\n",
              "      width: 32px;\n",
              "    }\n",
              "\n",
              "    .colab-df-convert:hover {\n",
              "      background-color: #E2EBFA;\n",
              "      box-shadow: 0px 1px 2px rgba(60, 64, 67, 0.3), 0px 1px 3px 1px rgba(60, 64, 67, 0.15);\n",
              "      fill: #174EA6;\n",
              "    }\n",
              "\n",
              "    [theme=dark] .colab-df-convert {\n",
              "      background-color: #3B4455;\n",
              "      fill: #D2E3FC;\n",
              "    }\n",
              "\n",
              "    [theme=dark] .colab-df-convert:hover {\n",
              "      background-color: #434B5C;\n",
              "      box-shadow: 0px 1px 3px 1px rgba(0, 0, 0, 0.15);\n",
              "      filter: drop-shadow(0px 1px 2px rgba(0, 0, 0, 0.3));\n",
              "      fill: #FFFFFF;\n",
              "    }\n",
              "  </style>\n",
              "\n",
              "      <script>\n",
              "        const buttonEl =\n",
              "          document.querySelector('#df-89d1f10a-1832-42a0-b455-81eac0f9f76d button.colab-df-convert');\n",
              "        buttonEl.style.display =\n",
              "          google.colab.kernel.accessAllowed ? 'block' : 'none';\n",
              "\n",
              "        async function convertToInteractive(key) {\n",
              "          const element = document.querySelector('#df-89d1f10a-1832-42a0-b455-81eac0f9f76d');\n",
              "          const dataTable =\n",
              "            await google.colab.kernel.invokeFunction('convertToInteractive',\n",
              "                                                     [key], {});\n",
              "          if (!dataTable) return;\n",
              "\n",
              "          const docLinkHtml = 'Like what you see? Visit the ' +\n",
              "            '<a target=\"_blank\" href=https://colab.research.google.com/notebooks/data_table.ipynb>data table notebook</a>'\n",
              "            + ' to learn more about interactive tables.';\n",
              "          element.innerHTML = '';\n",
              "          dataTable['output_type'] = 'display_data';\n",
              "          await google.colab.output.renderOutput(dataTable, element);\n",
              "          const docLink = document.createElement('div');\n",
              "          docLink.innerHTML = docLinkHtml;\n",
              "          element.appendChild(docLink);\n",
              "        }\n",
              "      </script>\n",
              "    </div>\n",
              "  </div>\n",
              "  "
            ]
          },
          "metadata": {},
          "execution_count": 73
        }
      ],
      "source": [
        "df = df.rename(columns={'Hipertension': 'Hypertension', 'SMS_received': 'SMSReceived'})\n",
        "df.head()\n",
        "# There's another column that is misspelled. Rename that one too. "
      ]
    },
    {
      "cell_type": "code",
      "execution_count": null,
      "metadata": {
        "id": "UQkas8tyVMIP",
        "outputId": "6ee11c4e-8ff8-48fc-8bac-7e4bf4f12890",
        "colab": {
          "base_uri": "https://localhost:8080/"
        }
      },
      "outputs": [
        {
          "output_type": "execute_result",
          "data": {
            "text/plain": [
              "['PatientId',\n",
              " 'AppointmentID',\n",
              " 'Gender',\n",
              " 'ScheduledDay',\n",
              " 'AppointmentDay',\n",
              " 'Age',\n",
              " 'Neighbourhood',\n",
              " 'Scholarship',\n",
              " 'Hypertension',\n",
              " 'Diabetes',\n",
              " 'Alcoholism',\n",
              " 'Handcap',\n",
              " 'SMSReceived',\n",
              " 'No-show']"
            ]
          },
          "metadata": {},
          "execution_count": 74
        }
      ],
      "source": [
        "list(df.columns)"
      ]
    },
    {
      "cell_type": "markdown",
      "metadata": {
        "collapsed": false,
        "id": "Hhqa5FI8VMIP"
      },
      "source": [
        "### Cleaning & preparing the data content\n",
        "Cleaning the data is an art that should be mastered in the first place before starting any data science or machine learning project. It makes data easier to investigate and build visualizations. Through this process you will also start to \"get to know\" your data, and therefore understand how to best levarage it during modeling.\n",
        "\n",
        "\n",
        "After you’ve checked the data types of features, you may have noticed that `ScheduledDay` and `AppointmentDay` features have an `object` data type.\n",
        "To make dealing with date features easies, let’s convert the type of ‘ScheduledDay’ and ‘AppointmentDay’ to `datetime64[ns]`. You need this to get access to useful methods and attributes."
      ]
    },
    {
      "cell_type": "code",
      "execution_count": null,
      "metadata": {
        "id": "7i2EQ8nUVMIQ",
        "outputId": "42be6961-600f-4fd2-fd77-2466b53943d6",
        "colab": {
          "base_uri": "https://localhost:8080/"
        }
      },
      "outputs": [
        {
          "output_type": "stream",
          "name": "stdout",
          "text": [
            "<class 'pandas.core.frame.DataFrame'>\n",
            "RangeIndex: 110527 entries, 0 to 110526\n",
            "Data columns (total 14 columns):\n",
            " #   Column          Non-Null Count   Dtype         \n",
            "---  ------          --------------   -----         \n",
            " 0   PatientId       110527 non-null  float64       \n",
            " 1   AppointmentID   110527 non-null  int64         \n",
            " 2   Gender          110527 non-null  object        \n",
            " 3   ScheduledDay    110527 non-null  datetime64[ns]\n",
            " 4   AppointmentDay  110527 non-null  datetime64[ns]\n",
            " 5   Age             110527 non-null  int64         \n",
            " 6   Neighbourhood   110527 non-null  object        \n",
            " 7   Scholarship     110527 non-null  int64         \n",
            " 8   Hypertension    110527 non-null  int64         \n",
            " 9   Diabetes        110527 non-null  int64         \n",
            " 10  Alcoholism      110527 non-null  int64         \n",
            " 11  Handcap         110527 non-null  int64         \n",
            " 12  SMSReceived     110527 non-null  int64         \n",
            " 13  No-show         110527 non-null  object        \n",
            "dtypes: datetime64[ns](2), float64(1), int64(8), object(3)\n",
            "memory usage: 11.8+ MB\n"
          ]
        }
      ],
      "source": [
        "df['ScheduledDay'] = pd.to_datetime(df['ScheduledDay']).dt.date.astype('datetime64[ns]')\n",
        "df['AppointmentDay'] = pd.to_datetime(df['AppointmentDay']).dt.date.astype('datetime64[ns]')\n",
        "df.info()"
      ]
    },
    {
      "cell_type": "markdown",
      "metadata": {
        "collapsed": false,
        "id": "xWOmYGtRVMIQ"
      },
      "source": [
        "We can also rename “No-show” column to “Presence” and its values to ‘Present’ and ‘Absent’ so as to avoid any misinterpretation."
      ]
    },
    {
      "cell_type": "code",
      "execution_count": null,
      "metadata": {
        "id": "qqqVs_g7VMIQ"
      },
      "outputs": [],
      "source": [
        "# First we create a new column, as a function of the No-show column.\n",
        "df['Presence'] = df['No-show'].apply(lambda x: 'Present' if x == \"No\" else 'Absent')\n",
        "# We can now remove the No-show column.\n",
        "df = df.drop('No-show',axis= 1)"
      ]
    },
    {
      "cell_type": "markdown",
      "metadata": {
        "collapsed": false,
        "id": "TCGwwzZIVMIR"
      },
      "source": [
        "## Feature engineering\n",
        "Now that the data we have is neatly organized, let's go back to our goal: To understand why people who receive treatment instructions do not show up at the next appointment time. In other words, what are the contributing factors for missing appointments?\n",
        "\n",
        "Given this goal, we ask ourselves: is there something we can calculate from what we have that will help us more directly answer the question? This is called _feature engineering_. Feature engineering refers to the process of using domain knowledge to select and transform the most relevant variables from raw data when creating a predictive model using machine learning or statistical modeling.\n",
        "\n",
        "In this case, we have the date the appointment was scheduled and the date of the actual appointment, but what may be helpful is the **time** between these two. So, we can add a new feature to the dataset — ‘Waiting Time Days’ to note how long the patient needs to wait for the appointment day."
      ]
    },
    {
      "cell_type": "code",
      "execution_count": null,
      "metadata": {
        "id": "orUVYVWHVMIR"
      },
      "outputs": [],
      "source": [
        "df['WaitingTimeDays'] = df['AppointmentDay'] - df['ScheduledDay']\n",
        "df['WaitingTimeDays'] = df['WaitingTimeDays'].dt.days\n",
        "# Can also be done in a single line:\n",
        "#df['WaitingTimeDays'] = (df['AppointmentDay'] - df['ScheduledDay']).dt.days"
      ]
    },
    {
      "cell_type": "markdown",
      "metadata": {
        "collapsed": false,
        "id": "vED9M6UFVMIS"
      },
      "source": [
        "We could also believe that the day of the week may matter. Let's add that."
      ]
    },
    {
      "cell_type": "code",
      "execution_count": null,
      "metadata": {
        "id": "3HQGjN7JVMIS"
      },
      "outputs": [],
      "source": [
        "df['WeekDay'] = df['AppointmentDay'].apply(lambda x: x.weekday())\n",
        "replace_map = {'WeekDay': {0: 'Monday', 1: 'Tuesday', 2: 'Wednesday', 3: 'Thursday', 4: 'Friday', 5: 'Saturday'}}\n",
        "df.replace(replace_map, inplace=True)"
      ]
    },
    {
      "cell_type": "code",
      "execution_count": null,
      "metadata": {
        "id": "Y4LpKIbhVMIS",
        "outputId": "eb1b8e15-59b7-442a-ad83-46f8c64e1719",
        "colab": {
          "base_uri": "https://localhost:8080/"
        }
      },
      "outputs": [
        {
          "output_type": "execute_result",
          "data": {
            "text/plain": [
              "Wednesday    25867\n",
              "Tuesday      25640\n",
              "Monday       22715\n",
              "Friday       19019\n",
              "Thursday     17247\n",
              "Saturday        39\n",
              "Name: WeekDay, dtype: int64"
            ]
          },
          "metadata": {},
          "execution_count": 79
        }
      ],
      "source": [
        "# A quick sanity check the resulting variable:\n",
        "df[\"WeekDay\"].value_counts()"
      ]
    },
    {
      "cell_type": "markdown",
      "metadata": {
        "collapsed": false,
        "id": "X013SD9dVMIS"
      },
      "source": [
        "\"Feature engineering\" may sound boring and inconsequential, but it is actually an essential step in any analysis. On a per-hour (and certainly per-computation), it is orders of magnitude more impactful than model parameter tuning. Also note that the term feature engineering is mostly used in macchine learning. In other fields it is just a part of the \"data wrangling\" or \"data preparation\" process.\n",
        "\n",
        "Here is a great article with more details and examples: https://medium.com/@mortenjorgensen_16022/feature-engineering-the-secret-sauce-to-applied-machine-learning-e61ac5963405"
      ]
    },
    {
      "cell_type": "markdown",
      "metadata": {
        "collapsed": false,
        "id": "dYMgoCpeVMIS"
      },
      "source": [
        "## Check for Missing Data\n",
        "\n",
        "Before going any further, let’s see if there are null values in each column."
      ]
    },
    {
      "cell_type": "code",
      "execution_count": null,
      "metadata": {
        "id": "SE2BJzYhVMIT",
        "outputId": "9cc2652f-d465-4170-8b80-23d14ff25df4",
        "colab": {
          "base_uri": "https://localhost:8080/"
        }
      },
      "outputs": [
        {
          "output_type": "execute_result",
          "data": {
            "text/plain": [
              "PatientId          0\n",
              "AppointmentID      0\n",
              "Gender             0\n",
              "ScheduledDay       0\n",
              "AppointmentDay     0\n",
              "Age                0\n",
              "Neighbourhood      0\n",
              "Scholarship        0\n",
              "Hypertension       0\n",
              "Diabetes           0\n",
              "Alcoholism         0\n",
              "Handcap            0\n",
              "SMSReceived        0\n",
              "Presence           0\n",
              "WaitingTimeDays    0\n",
              "WeekDay            0\n",
              "dtype: int64"
            ]
          },
          "metadata": {},
          "execution_count": 80
        }
      ],
      "source": [
        "df.isnull().sum()"
      ]
    },
    {
      "cell_type": "markdown",
      "metadata": {
        "collapsed": false,
        "id": "rLgq7xmtVMIT"
      },
      "source": [
        "We are lucky (and rather unrealistic) — there are no null values in our dataset! \n",
        "\n",
        "What would we have done if there were missing values? What effect would that choice have had in our future conclusions?\n"
      ]
    },
    {
      "cell_type": "markdown",
      "metadata": {
        "collapsed": false,
        "id": "4rtapLxBVMIT"
      },
      "source": [
        "## Exploratory Analysis\n",
        "We can now get a bit deeper into each variable (or feature) and see what kind of patients we have.\n",
        "\n",
        "For numeric variables we can get a quick sense of what's happening with a table showing numeric summaries for each.\n",
        "_What 3 things can you learn about the data from this table?_"
      ]
    },
    {
      "cell_type": "code",
      "execution_count": null,
      "metadata": {
        "scrolled": true,
        "id": "mWYNcl4vVMIT",
        "outputId": "025c228b-5858-4301-84e9-3ccf88fbd3f4",
        "colab": {
          "base_uri": "https://localhost:8080/",
          "height": 300
        }
      },
      "outputs": [
        {
          "output_type": "execute_result",
          "data": {
            "text/plain": [
              "          PatientId  AppointmentID            Age    Scholarship  \\\n",
              "count  1.105270e+05   1.105270e+05  110527.000000  110527.000000   \n",
              "mean   1.474963e+14   5.675305e+06      37.088874       0.098266   \n",
              "std    2.560949e+14   7.129575e+04      23.110205       0.297675   \n",
              "min    3.921784e+04   5.030230e+06      -1.000000       0.000000   \n",
              "25%    4.172614e+12   5.640286e+06      18.000000       0.000000   \n",
              "50%    3.173184e+13   5.680573e+06      37.000000       0.000000   \n",
              "75%    9.439172e+13   5.725524e+06      55.000000       0.000000   \n",
              "max    9.999816e+14   5.790484e+06     115.000000       1.000000   \n",
              "\n",
              "        Hypertension       Diabetes     Alcoholism        Handcap  \\\n",
              "count  110527.000000  110527.000000  110527.000000  110527.000000   \n",
              "mean        0.197246       0.071865       0.030400       0.022248   \n",
              "std         0.397921       0.258265       0.171686       0.161543   \n",
              "min         0.000000       0.000000       0.000000       0.000000   \n",
              "25%         0.000000       0.000000       0.000000       0.000000   \n",
              "50%         0.000000       0.000000       0.000000       0.000000   \n",
              "75%         0.000000       0.000000       0.000000       0.000000   \n",
              "max         1.000000       1.000000       1.000000       4.000000   \n",
              "\n",
              "         SMSReceived  WaitingTimeDays  \n",
              "count  110527.000000    110527.000000  \n",
              "mean        0.321026        10.183702  \n",
              "std         0.466873        15.254996  \n",
              "min         0.000000        -6.000000  \n",
              "25%         0.000000         0.000000  \n",
              "50%         0.000000         4.000000  \n",
              "75%         1.000000        15.000000  \n",
              "max         1.000000       179.000000  "
            ],
            "text/html": [
              "\n",
              "  <div id=\"df-f47b810d-ac0a-4dd2-ba12-836e19eda8e2\">\n",
              "    <div class=\"colab-df-container\">\n",
              "      <div>\n",
              "<style scoped>\n",
              "    .dataframe tbody tr th:only-of-type {\n",
              "        vertical-align: middle;\n",
              "    }\n",
              "\n",
              "    .dataframe tbody tr th {\n",
              "        vertical-align: top;\n",
              "    }\n",
              "\n",
              "    .dataframe thead th {\n",
              "        text-align: right;\n",
              "    }\n",
              "</style>\n",
              "<table border=\"1\" class=\"dataframe\">\n",
              "  <thead>\n",
              "    <tr style=\"text-align: right;\">\n",
              "      <th></th>\n",
              "      <th>PatientId</th>\n",
              "      <th>AppointmentID</th>\n",
              "      <th>Age</th>\n",
              "      <th>Scholarship</th>\n",
              "      <th>Hypertension</th>\n",
              "      <th>Diabetes</th>\n",
              "      <th>Alcoholism</th>\n",
              "      <th>Handcap</th>\n",
              "      <th>SMSReceived</th>\n",
              "      <th>WaitingTimeDays</th>\n",
              "    </tr>\n",
              "  </thead>\n",
              "  <tbody>\n",
              "    <tr>\n",
              "      <th>count</th>\n",
              "      <td>1.105270e+05</td>\n",
              "      <td>1.105270e+05</td>\n",
              "      <td>110527.000000</td>\n",
              "      <td>110527.000000</td>\n",
              "      <td>110527.000000</td>\n",
              "      <td>110527.000000</td>\n",
              "      <td>110527.000000</td>\n",
              "      <td>110527.000000</td>\n",
              "      <td>110527.000000</td>\n",
              "      <td>110527.000000</td>\n",
              "    </tr>\n",
              "    <tr>\n",
              "      <th>mean</th>\n",
              "      <td>1.474963e+14</td>\n",
              "      <td>5.675305e+06</td>\n",
              "      <td>37.088874</td>\n",
              "      <td>0.098266</td>\n",
              "      <td>0.197246</td>\n",
              "      <td>0.071865</td>\n",
              "      <td>0.030400</td>\n",
              "      <td>0.022248</td>\n",
              "      <td>0.321026</td>\n",
              "      <td>10.183702</td>\n",
              "    </tr>\n",
              "    <tr>\n",
              "      <th>std</th>\n",
              "      <td>2.560949e+14</td>\n",
              "      <td>7.129575e+04</td>\n",
              "      <td>23.110205</td>\n",
              "      <td>0.297675</td>\n",
              "      <td>0.397921</td>\n",
              "      <td>0.258265</td>\n",
              "      <td>0.171686</td>\n",
              "      <td>0.161543</td>\n",
              "      <td>0.466873</td>\n",
              "      <td>15.254996</td>\n",
              "    </tr>\n",
              "    <tr>\n",
              "      <th>min</th>\n",
              "      <td>3.921784e+04</td>\n",
              "      <td>5.030230e+06</td>\n",
              "      <td>-1.000000</td>\n",
              "      <td>0.000000</td>\n",
              "      <td>0.000000</td>\n",
              "      <td>0.000000</td>\n",
              "      <td>0.000000</td>\n",
              "      <td>0.000000</td>\n",
              "      <td>0.000000</td>\n",
              "      <td>-6.000000</td>\n",
              "    </tr>\n",
              "    <tr>\n",
              "      <th>25%</th>\n",
              "      <td>4.172614e+12</td>\n",
              "      <td>5.640286e+06</td>\n",
              "      <td>18.000000</td>\n",
              "      <td>0.000000</td>\n",
              "      <td>0.000000</td>\n",
              "      <td>0.000000</td>\n",
              "      <td>0.000000</td>\n",
              "      <td>0.000000</td>\n",
              "      <td>0.000000</td>\n",
              "      <td>0.000000</td>\n",
              "    </tr>\n",
              "    <tr>\n",
              "      <th>50%</th>\n",
              "      <td>3.173184e+13</td>\n",
              "      <td>5.680573e+06</td>\n",
              "      <td>37.000000</td>\n",
              "      <td>0.000000</td>\n",
              "      <td>0.000000</td>\n",
              "      <td>0.000000</td>\n",
              "      <td>0.000000</td>\n",
              "      <td>0.000000</td>\n",
              "      <td>0.000000</td>\n",
              "      <td>4.000000</td>\n",
              "    </tr>\n",
              "    <tr>\n",
              "      <th>75%</th>\n",
              "      <td>9.439172e+13</td>\n",
              "      <td>5.725524e+06</td>\n",
              "      <td>55.000000</td>\n",
              "      <td>0.000000</td>\n",
              "      <td>0.000000</td>\n",
              "      <td>0.000000</td>\n",
              "      <td>0.000000</td>\n",
              "      <td>0.000000</td>\n",
              "      <td>1.000000</td>\n",
              "      <td>15.000000</td>\n",
              "    </tr>\n",
              "    <tr>\n",
              "      <th>max</th>\n",
              "      <td>9.999816e+14</td>\n",
              "      <td>5.790484e+06</td>\n",
              "      <td>115.000000</td>\n",
              "      <td>1.000000</td>\n",
              "      <td>1.000000</td>\n",
              "      <td>1.000000</td>\n",
              "      <td>1.000000</td>\n",
              "      <td>4.000000</td>\n",
              "      <td>1.000000</td>\n",
              "      <td>179.000000</td>\n",
              "    </tr>\n",
              "  </tbody>\n",
              "</table>\n",
              "</div>\n",
              "      <button class=\"colab-df-convert\" onclick=\"convertToInteractive('df-f47b810d-ac0a-4dd2-ba12-836e19eda8e2')\"\n",
              "              title=\"Convert this dataframe to an interactive table.\"\n",
              "              style=\"display:none;\">\n",
              "        \n",
              "  <svg xmlns=\"http://www.w3.org/2000/svg\" height=\"24px\"viewBox=\"0 0 24 24\"\n",
              "       width=\"24px\">\n",
              "    <path d=\"M0 0h24v24H0V0z\" fill=\"none\"/>\n",
              "    <path d=\"M18.56 5.44l.94 2.06.94-2.06 2.06-.94-2.06-.94-.94-2.06-.94 2.06-2.06.94zm-11 1L8.5 8.5l.94-2.06 2.06-.94-2.06-.94L8.5 2.5l-.94 2.06-2.06.94zm10 10l.94 2.06.94-2.06 2.06-.94-2.06-.94-.94-2.06-.94 2.06-2.06.94z\"/><path d=\"M17.41 7.96l-1.37-1.37c-.4-.4-.92-.59-1.43-.59-.52 0-1.04.2-1.43.59L10.3 9.45l-7.72 7.72c-.78.78-.78 2.05 0 2.83L4 21.41c.39.39.9.59 1.41.59.51 0 1.02-.2 1.41-.59l7.78-7.78 2.81-2.81c.8-.78.8-2.07 0-2.86zM5.41 20L4 18.59l7.72-7.72 1.47 1.35L5.41 20z\"/>\n",
              "  </svg>\n",
              "      </button>\n",
              "      \n",
              "  <style>\n",
              "    .colab-df-container {\n",
              "      display:flex;\n",
              "      flex-wrap:wrap;\n",
              "      gap: 12px;\n",
              "    }\n",
              "\n",
              "    .colab-df-convert {\n",
              "      background-color: #E8F0FE;\n",
              "      border: none;\n",
              "      border-radius: 50%;\n",
              "      cursor: pointer;\n",
              "      display: none;\n",
              "      fill: #1967D2;\n",
              "      height: 32px;\n",
              "      padding: 0 0 0 0;\n",
              "      width: 32px;\n",
              "    }\n",
              "\n",
              "    .colab-df-convert:hover {\n",
              "      background-color: #E2EBFA;\n",
              "      box-shadow: 0px 1px 2px rgba(60, 64, 67, 0.3), 0px 1px 3px 1px rgba(60, 64, 67, 0.15);\n",
              "      fill: #174EA6;\n",
              "    }\n",
              "\n",
              "    [theme=dark] .colab-df-convert {\n",
              "      background-color: #3B4455;\n",
              "      fill: #D2E3FC;\n",
              "    }\n",
              "\n",
              "    [theme=dark] .colab-df-convert:hover {\n",
              "      background-color: #434B5C;\n",
              "      box-shadow: 0px 1px 3px 1px rgba(0, 0, 0, 0.15);\n",
              "      filter: drop-shadow(0px 1px 2px rgba(0, 0, 0, 0.3));\n",
              "      fill: #FFFFFF;\n",
              "    }\n",
              "  </style>\n",
              "\n",
              "      <script>\n",
              "        const buttonEl =\n",
              "          document.querySelector('#df-f47b810d-ac0a-4dd2-ba12-836e19eda8e2 button.colab-df-convert');\n",
              "        buttonEl.style.display =\n",
              "          google.colab.kernel.accessAllowed ? 'block' : 'none';\n",
              "\n",
              "        async function convertToInteractive(key) {\n",
              "          const element = document.querySelector('#df-f47b810d-ac0a-4dd2-ba12-836e19eda8e2');\n",
              "          const dataTable =\n",
              "            await google.colab.kernel.invokeFunction('convertToInteractive',\n",
              "                                                     [key], {});\n",
              "          if (!dataTable) return;\n",
              "\n",
              "          const docLinkHtml = 'Like what you see? Visit the ' +\n",
              "            '<a target=\"_blank\" href=https://colab.research.google.com/notebooks/data_table.ipynb>data table notebook</a>'\n",
              "            + ' to learn more about interactive tables.';\n",
              "          element.innerHTML = '';\n",
              "          dataTable['output_type'] = 'display_data';\n",
              "          await google.colab.output.renderOutput(dataTable, element);\n",
              "          const docLink = document.createElement('div');\n",
              "          docLink.innerHTML = docLinkHtml;\n",
              "          element.appendChild(docLink);\n",
              "        }\n",
              "      </script>\n",
              "    </div>\n",
              "  </div>\n",
              "  "
            ]
          },
          "metadata": {},
          "execution_count": 81
        }
      ],
      "source": [
        "df.describe()"
      ]
    },
    {
      "cell_type": "markdown",
      "metadata": {
        "collapsed": false,
        "id": "OPxcNwc4VMIT"
      },
      "source": [
        "For categorical variables, we can count the number in each group:"
      ]
    },
    {
      "cell_type": "code",
      "execution_count": null,
      "metadata": {
        "id": "rMOnHoDdVMIU",
        "outputId": "8cb125ff-6888-40bb-c61b-beaf7fe7ec80",
        "colab": {
          "base_uri": "https://localhost:8080/"
        }
      },
      "outputs": [
        {
          "output_type": "execute_result",
          "data": {
            "text/plain": [
              "Present    88208\n",
              "Absent     22319\n",
              "Name: Presence, dtype: int64"
            ]
          },
          "metadata": {},
          "execution_count": 82
        }
      ],
      "source": [
        "df[\"Presence\"].value_counts()"
      ]
    },
    {
      "cell_type": "markdown",
      "metadata": {
        "collapsed": false,
        "id": "376QXlYLVMIU"
      },
      "source": [
        "This is helpful, but we care more about the relative counts (percentages):"
      ]
    },
    {
      "cell_type": "code",
      "execution_count": null,
      "metadata": {
        "id": "OEx6mEBVVMIU",
        "outputId": "ff356d00-6cf6-4b3a-ecab-c22243fc88a0",
        "colab": {
          "base_uri": "https://localhost:8080/"
        }
      },
      "outputs": [
        {
          "output_type": "execute_result",
          "data": {
            "text/plain": [
              "Present    0.798067\n",
              "Absent     0.201933\n",
              "Name: Presence, dtype: float64"
            ]
          },
          "metadata": {},
          "execution_count": 83
        }
      ],
      "source": [
        "# We can get the proportion by adding `normalize=True`\n",
        "df[\"Presence\"].value_counts(normalize=True)"
      ]
    },
    {
      "cell_type": "code",
      "execution_count": null,
      "metadata": {
        "id": "MuwtLoOUVMIU",
        "outputId": "0912f1b8-9901-43b5-8435-0d2b43690f4e",
        "colab": {
          "base_uri": "https://localhost:8080/"
        }
      },
      "outputs": [
        {
          "output_type": "execute_result",
          "data": {
            "text/plain": [
              "JARDIM CAMBURI                 0.069820\n",
              "MARIA ORTIZ                    0.052521\n",
              "RESISTÊNCIA                    0.040090\n",
              "JARDIM DA PENHA                0.035077\n",
              "ITARARÉ                        0.031793\n",
              "                                 ...   \n",
              "ILHA DO BOI                    0.000317\n",
              "ILHA DO FRADE                  0.000090\n",
              "AEROPORTO                      0.000072\n",
              "ILHAS OCEÂNICAS DE TRINDADE    0.000018\n",
              "PARQUE INDUSTRIAL              0.000009\n",
              "Name: Neighbourhood, Length: 81, dtype: float64"
            ]
          },
          "metadata": {},
          "execution_count": 84
        }
      ],
      "source": [
        "df[\"Neighbourhood\"].value_counts(normalize=True)"
      ]
    },
    {
      "cell_type": "code",
      "execution_count": null,
      "metadata": {
        "id": "5cBUTxVTVMIU",
        "outputId": "234c2853-c4cd-4075-a097-13f709b341ea",
        "colab": {
          "base_uri": "https://localhost:8080/"
        }
      },
      "outputs": [
        {
          "output_type": "execute_result",
          "data": {
            "text/plain": [
              "F    0.649977\n",
              "M    0.350023\n",
              "Name: Gender, dtype: float64"
            ]
          },
          "metadata": {},
          "execution_count": 85
        }
      ],
      "source": [
        "df[\"Gender\"].value_counts(normalize=True)"
      ]
    },
    {
      "cell_type": "markdown",
      "metadata": {
        "collapsed": false,
        "id": "YtPB2UFXVMIV"
      },
      "source": [
        "We can also make a bar plot of Presence: "
      ]
    },
    {
      "cell_type": "code",
      "execution_count": null,
      "metadata": {
        "id": "G7TDvINLVMIV",
        "outputId": "6648a7b5-53cf-4e26-925e-6034ebfd0ce5",
        "colab": {
          "base_uri": "https://localhost:8080/",
          "height": 295
        }
      },
      "outputs": [
        {
          "output_type": "display_data",
          "data": {
            "text/plain": [
              "<Figure size 432x288 with 1 Axes>"
            ],
            "image/png": "[encoded data removed]"
          },
          "metadata": {
            "needs_background": "light"
          }
        }
      ],
      "source": [
        "counts = df.groupby('Presence').count()[['AppointmentID']].reset_index()\n",
        "counts\n",
        "# Let's use a simple bar chart in Seaborn to compare counts for the two drugs\n",
        "# There are several different ways to do the plotting - this is my preferred style,\n",
        "# but you might prefer different syntax\n",
        "fig = sns.barplot(data=counts, x='Presence', y='AppointmentID')\n",
        "plt.title('Number of appointments by Presence')\n",
        "plt.ylabel('Number of appointments')\n",
        "plt.xlabel('Presence')\n",
        "plt.show(fig)"
      ]
    },
    {
      "cell_type": "markdown",
      "metadata": {
        "collapsed": false,
        "id": "MA6HhWCZVMIV"
      },
      "source": [
        "### Data Analysis\n",
        "We now get into some variable relationships. Remember our question: who is missing appointments?\n",
        "\n",
        "Let's look at the weekday variable we created. Are people more likely to miss an appointment on certain days?\n",
        "\n",
        "Which day has the most missed appointments?\n"
      ]
    },
    {
      "cell_type": "code",
      "execution_count": null,
      "metadata": {
        "id": "xhMAcwMWVMIV"
      },
      "outputs": [],
      "source": []
    },
    {
      "cell_type": "code",
      "execution_count": null,
      "metadata": {
        "id": "pz9R_nVnVMIV",
        "outputId": "c696a9a6-4494-4b3b-901f-9dd4e07be36d",
        "colab": {
          "base_uri": "https://localhost:8080/",
          "height": 295
        }
      },
      "outputs": [
        {
          "output_type": "display_data",
          "data": {
            "text/plain": [
              "<Figure size 432x288 with 1 Axes>"
            ],
            "image/png": "[encoded data removed]"
          },
          "metadata": {
            "needs_background": "light"
          }
        }
      ],
      "source": [
        "df_absent = df[df['Presence']==\"Absent\"]\n",
        "counts = df_absent.groupby('WeekDay').count()[['AppointmentID']].reset_index()\n",
        "counts\n",
        "# Let's use a simple bar chart in Seaborn to compare counts for the two drugs\n",
        "# There are several different ways to do the plotting - this is my preferred style,\n",
        "# but you might prefer different syntax\n",
        "fig = sns.barplot(data=counts, x='WeekDay', y='AppointmentID')\n",
        "plt.title('Number of absent appointments by day of week')\n",
        "plt.ylabel('Number of appointments')\n",
        "plt.xlabel('Day of Week')\n",
        "plt.show(fig)"
      ]
    },
    {
      "cell_type": "markdown",
      "metadata": {
        "collapsed": false,
        "id": "poc2DJcaVMIV"
      },
      "source": [
        "What can we learn from this plot?\n",
        "We see that Saturday and Thursday have the two fewest missed appointments. Does that mean that Saturday patients are the most compliant?\n",
        "\n",
        "Let's look at the data a different way, as a table of proportion of missed appointments by day oof week:"
      ]
    },
    {
      "cell_type": "code",
      "execution_count": null,
      "metadata": {
        "id": "BcqvvFLVVMIV",
        "outputId": "1c026433-241d-40f7-c444-f42ceb61acda",
        "colab": {
          "base_uri": "https://localhost:8080/",
          "height": 269
        }
      },
      "outputs": [
        {
          "output_type": "execute_result",
          "data": {
            "text/plain": [
              "Presence     Absent   Present\n",
              "WeekDay                      \n",
              "Friday     0.212261  0.787739\n",
              "Monday     0.206471  0.793529\n",
              "Saturday   0.230769  0.769231\n",
              "Thursday   0.193541  0.806459\n",
              "Tuesday    0.200936  0.799064\n",
              "Wednesday  0.196892  0.803108"
            ],
            "text/html": [
              "\n",
              "  <div id=\"df-dcd41d94-bf9c-4a3b-9a13-ee2e7f8082f2\">\n",
              "    <div class=\"colab-df-container\">\n",
              "      <div>\n",
              "<style scoped>\n",
              "    .dataframe tbody tr th:only-of-type {\n",
              "        vertical-align: middle;\n",
              "    }\n",
              "\n",
              "    .dataframe tbody tr th {\n",
              "        vertical-align: top;\n",
              "    }\n",
              "\n",
              "    .dataframe thead th {\n",
              "        text-align: right;\n",
              "    }\n",
              "</style>\n",
              "<table border=\"1\" class=\"dataframe\">\n",
              "  <thead>\n",
              "    <tr style=\"text-align: right;\">\n",
              "      <th>Presence</th>\n",
              "      <th>Absent</th>\n",
              "      <th>Present</th>\n",
              "    </tr>\n",
              "    <tr>\n",
              "      <th>WeekDay</th>\n",
              "      <th></th>\n",
              "      <th></th>\n",
              "    </tr>\n",
              "  </thead>\n",
              "  <tbody>\n",
              "    <tr>\n",
              "      <th>Friday</th>\n",
              "      <td>0.212261</td>\n",
              "      <td>0.787739</td>\n",
              "    </tr>\n",
              "    <tr>\n",
              "      <th>Monday</th>\n",
              "      <td>0.206471</td>\n",
              "      <td>0.793529</td>\n",
              "    </tr>\n",
              "    <tr>\n",
              "      <th>Saturday</th>\n",
              "      <td>0.230769</td>\n",
              "      <td>0.769231</td>\n",
              "    </tr>\n",
              "    <tr>\n",
              "      <th>Thursday</th>\n",
              "      <td>0.193541</td>\n",
              "      <td>0.806459</td>\n",
              "    </tr>\n",
              "    <tr>\n",
              "      <th>Tuesday</th>\n",
              "      <td>0.200936</td>\n",
              "      <td>0.799064</td>\n",
              "    </tr>\n",
              "    <tr>\n",
              "      <th>Wednesday</th>\n",
              "      <td>0.196892</td>\n",
              "      <td>0.803108</td>\n",
              "    </tr>\n",
              "  </tbody>\n",
              "</table>\n",
              "</div>\n",
              "      <button class=\"colab-df-convert\" onclick=\"convertToInteractive('df-dcd41d94-bf9c-4a3b-9a13-ee2e7f8082f2')\"\n",
              "              title=\"Convert this dataframe to an interactive table.\"\n",
              "              style=\"display:none;\">\n",
              "        \n",
              "  <svg xmlns=\"http://www.w3.org/2000/svg\" height=\"24px\"viewBox=\"0 0 24 24\"\n",
              "       width=\"24px\">\n",
              "    <path d=\"M0 0h24v24H0V0z\" fill=\"none\"/>\n",
              "    <path d=\"M18.56 5.44l.94 2.06.94-2.06 2.06-.94-2.06-.94-.94-2.06-.94 2.06-2.06.94zm-11 1L8.5 8.5l.94-2.06 2.06-.94-2.06-.94L8.5 2.5l-.94 2.06-2.06.94zm10 10l.94 2.06.94-2.06 2.06-.94-2.06-.94-.94-2.06-.94 2.06-2.06.94z\"/><path d=\"M17.41 7.96l-1.37-1.37c-.4-.4-.92-.59-1.43-.59-.52 0-1.04.2-1.43.59L10.3 9.45l-7.72 7.72c-.78.78-.78 2.05 0 2.83L4 21.41c.39.39.9.59 1.41.59.51 0 1.02-.2 1.41-.59l7.78-7.78 2.81-2.81c.8-.78.8-2.07 0-2.86zM5.41 20L4 18.59l7.72-7.72 1.47 1.35L5.41 20z\"/>\n",
              "  </svg>\n",
              "      </button>\n",
              "      \n",
              "  <style>\n",
              "    .colab-df-container {\n",
              "      display:flex;\n",
              "      flex-wrap:wrap;\n",
              "      gap: 12px;\n",
              "    }\n",
              "\n",
              "    .colab-df-convert {\n",
              "      background-color: #E8F0FE;\n",
              "      border: none;\n",
              "      border-radius: 50%;\n",
              "      cursor: pointer;\n",
              "      display: none;\n",
              "      fill: #1967D2;\n",
              "      height: 32px;\n",
              "      padding: 0 0 0 0;\n",
              "      width: 32px;\n",
              "    }\n",
              "\n",
              "    .colab-df-convert:hover {\n",
              "      background-color: #E2EBFA;\n",
              "      box-shadow: 0px 1px 2px rgba(60, 64, 67, 0.3), 0px 1px 3px 1px rgba(60, 64, 67, 0.15);\n",
              "      fill: #174EA6;\n",
              "    }\n",
              "\n",
              "    [theme=dark] .colab-df-convert {\n",
              "      background-color: #3B4455;\n",
              "      fill: #D2E3FC;\n",
              "    }\n",
              "\n",
              "    [theme=dark] .colab-df-convert:hover {\n",
              "      background-color: #434B5C;\n",
              "      box-shadow: 0px 1px 3px 1px rgba(0, 0, 0, 0.15);\n",
              "      filter: drop-shadow(0px 1px 2px rgba(0, 0, 0, 0.3));\n",
              "      fill: #FFFFFF;\n",
              "    }\n",
              "  </style>\n",
              "\n",
              "      <script>\n",
              "        const buttonEl =\n",
              "          document.querySelector('#df-dcd41d94-bf9c-4a3b-9a13-ee2e7f8082f2 button.colab-df-convert');\n",
              "        buttonEl.style.display =\n",
              "          google.colab.kernel.accessAllowed ? 'block' : 'none';\n",
              "\n",
              "        async function convertToInteractive(key) {\n",
              "          const element = document.querySelector('#df-dcd41d94-bf9c-4a3b-9a13-ee2e7f8082f2');\n",
              "          const dataTable =\n",
              "            await google.colab.kernel.invokeFunction('convertToInteractive',\n",
              "                                                     [key], {});\n",
              "          if (!dataTable) return;\n",
              "\n",
              "          const docLinkHtml = 'Like what you see? Visit the ' +\n",
              "            '<a target=\"_blank\" href=https://colab.research.google.com/notebooks/data_table.ipynb>data table notebook</a>'\n",
              "            + ' to learn more about interactive tables.';\n",
              "          element.innerHTML = '';\n",
              "          dataTable['output_type'] = 'display_data';\n",
              "          await google.colab.output.renderOutput(dataTable, element);\n",
              "          const docLink = document.createElement('div');\n",
              "          docLink.innerHTML = docLinkHtml;\n",
              "          element.appendChild(docLink);\n",
              "        }\n",
              "      </script>\n",
              "    </div>\n",
              "  </div>\n",
              "  "
            ]
          },
          "metadata": {},
          "execution_count": 88
        }
      ],
      "source": [
        "pd.crosstab(index=df['WeekDay'], columns=df['Presence'], normalize='index')"
      ]
    },
    {
      "cell_type": "markdown",
      "metadata": {
        "collapsed": false,
        "id": "rQxbaakuVMIV"
      },
      "source": [
        "What does the table tell us? Do you prefer the table or the plot?"
      ]
    },
    {
      "cell_type": "markdown",
      "source": [
        "While the barplot above is not \"wrong\", it does not answer the question we have, and can actually be misleading. What would be a better barplot?"
      ],
      "metadata": {
        "id": "zRsAOGjqX8Si"
      }
    },
    {
      "cell_type": "code",
      "execution_count": null,
      "metadata": {
        "id": "Um1LSwfQVMIW",
        "outputId": "c8d1d049-092e-4f91-e0d0-759516b0e90e",
        "colab": {
          "base_uri": "https://localhost:8080/",
          "height": 297
        }
      },
      "outputs": [
        {
          "output_type": "execute_result",
          "data": {
            "text/plain": [
              "<matplotlib.axes._subplots.AxesSubplot at 0x7f3ad40b1550>"
            ]
          },
          "metadata": {},
          "execution_count": 89
        },
        {
          "output_type": "display_data",
          "data": {
            "text/plain": [
              "<Figure size 432x288 with 1 Axes>"
            ],
            "image/png": "[encoded data removed]"
          },
          "metadata": {
            "needs_background": "light"
          }
        }
      ],
      "source": [
        "x, y, hue = \"Presence\", \"proportion\", \"WeekDay\"\n",
        "hue_order = [\"0\", \"1\"]\n",
        "\n",
        "(df[x]\n",
        " .groupby(df[hue])\n",
        " .value_counts(normalize=True)\n",
        " .rename(y)\n",
        " .reset_index()\n",
        " .pipe((sns.barplot, \"data\"), x=x, y=y, hue=hue))"
      ]
    },
    {
      "cell_type": "code",
      "execution_count": null,
      "metadata": {
        "id": "LoWY0nzKVMIW",
        "outputId": "6577102d-11df-47a8-f361-0c68d0cbee7b",
        "colab": {
          "base_uri": "https://localhost:8080/",
          "height": 297
        }
      },
      "outputs": [
        {
          "output_type": "execute_result",
          "data": {
            "text/plain": [
              "<matplotlib.axes._subplots.AxesSubplot at 0x7f3ad430b5d0>"
            ]
          },
          "metadata": {},
          "execution_count": 90
        },
        {
          "output_type": "display_data",
          "data": {
            "text/plain": [
              "<Figure size 432x288 with 1 Axes>"
            ],
            "image/png": "[encoded data removed]"
          },
          "metadata": {
            "needs_background": "light"
          }
        }
      ],
      "source": [
        "x, y, hue = \"WeekDay\", \"proportion\", \"Presence\"\n",
        "hue_order = [\"0\", \"1\"]\n",
        "\n",
        "(df[x]\n",
        " .groupby(df[hue])\n",
        " .value_counts(normalize=True)\n",
        " .rename(y)\n",
        " .reset_index()\n",
        " .pipe((sns.barplot, \"data\"), x=x, y=y, hue=hue))"
      ]
    },
    {
      "cell_type": "markdown",
      "metadata": {
        "collapsed": false,
        "id": "QL2E-okUVMIW"
      },
      "source": [
        "Take 5 minutes and decide two more plots you'd like to make with this dataset to get to know it better. You do not have to actually code them (unless you want). The act of thinking through what would be helpful is crucial, and is often overlooked, and we get caught up in the joy of coding.\n",
        "\n",
        "\n",
        "\n",
        "_One plot would be ..._\n",
        "_Another plot would be ..._"
      ]
    },
    {
      "cell_type": "markdown",
      "metadata": {
        "collapsed": false,
        "id": "yHNyfkC1VMIW"
      },
      "source": [
        "### Model\n",
        "\n",
        "Ok! So now we have a sense of the data available, and in broad stokes what is going on.\n",
        "\n",
        "Let's return to our question. A helpful technique to go from a business or scientific question to something we can create a model for is to rephrase our question probabilistically. In this case we could ask: _what is the expected probability patient A will miss the next an appointment?_\n",
        "\n",
        "To start, let's say we know nothing else about the patient. What is our best guess of this probability?"
      ]
    },
    {
      "cell_type": "markdown",
      "metadata": {
        "collapsed": false,
        "id": "q6xT2095VMIX"
      },
      "source": [
        "_The best guess is the overall proportion of patients who missed an appointment, 20%_\n"
      ]
    },
    {
      "cell_type": "markdown",
      "metadata": {
        "collapsed": false,
        "id": "xy0VwJz8VMIX"
      },
      "source": [
        "Now, I tell you that the appointment is scheduled for a Saturday. Do you update your guess?\n"
      ]
    },
    {
      "cell_type": "markdown",
      "metadata": {
        "collapsed": false,
        "id": "D0TicDAWVMIX"
      },
      "source": [
        "_Yes, now my guess is the overall average for Saturday appointments, which is 23%_"
      ]
    },
    {
      "cell_type": "markdown",
      "metadata": {
        "collapsed": false,
        "id": "A-18chzsVMIX"
      },
      "source": [
        "Finally, I tell you that the patient is female, and all sorts of other characteristics. How would you update your guess now?"
      ]
    },
    {
      "cell_type": "markdown",
      "metadata": {
        "collapsed": false,
        "id": "R65pLaysVMIX"
      },
      "source": [
        "_With several characteristics, we can't use contingency tables and instead move to statistical models, or use machines to do our learning :)_"
      ]
    },
    {
      "cell_type": "markdown",
      "metadata": {
        "collapsed": false,
        "id": "cq2MhmCRVMIX"
      },
      "source": [
        "#### Decision Tree\n",
        "\n",
        "One very powerful model is a `decision tree`. This framework is useful for non-linear relationships between features, when a regression may not be flexible enough. It also produces a very explainable model.\n",
        "\n",
        "Great summary of trees and figures: https://mljar.com/blog/visualize-decision-tree/"
      ]
    },
    {
      "cell_type": "markdown",
      "metadata": {
        "collapsed": false,
        "id": "WxMpbnInVMIX"
      },
      "source": [
        "Start by creating `X`, a subset of `df` with the *predictors* to use. Also create Y, with only the outcome:"
      ]
    },
    {
      "cell_type": "code",
      "execution_count": null,
      "metadata": {
        "id": "PjNqgM0eVMIY"
      },
      "outputs": [],
      "source": [
        "X = df[[\n",
        "        #'Gender',\n",
        " 'Age',\n",
        " #'Neighbourhood',\n",
        " 'Scholarship',\n",
        " 'Hypertension',\n",
        " 'Diabetes',\n",
        " 'Alcoholism',\n",
        " 'Handcap',\n",
        " 'SMSReceived',\n",
        " 'WaitingTimeDays'#,\n",
        "# 'WeekDay'\n",
        "    ]]\n",
        "y = df['Presence']"
      ]
    },
    {
      "cell_type": "markdown",
      "source": [
        "Now, instantiate the tree and fit the model."
      ],
      "metadata": {
        "id": "OpDQfMYcYIdb"
      }
    },
    {
      "cell_type": "code",
      "execution_count": null,
      "metadata": {
        "id": "AZiTrulAVMIY",
        "outputId": "864d799c-c91a-459d-a53d-bdba174addb5",
        "colab": {
          "base_uri": "https://localhost:8080/"
        }
      },
      "outputs": [
        {
          "output_type": "execute_result",
          "data": {
            "text/plain": [
              "DecisionTreeClassifier(max_depth=5, random_state=0)"
            ]
          },
          "metadata": {},
          "execution_count": 92
        }
      ],
      "source": [
        "from sklearn.tree import DecisionTreeClassifier\n",
        "from sklearn import tree\n",
        "# Instantiate model object\n",
        "clf = DecisionTreeClassifier(random_state=0,max_depth=5)\n",
        "clf"
      ]
    },
    {
      "cell_type": "code",
      "execution_count": null,
      "metadata": {
        "scrolled": true,
        "id": "zCZe86DVVMIY"
      },
      "outputs": [],
      "source": [
        "# Fit it to our data\n",
        "mod_tree = clf.fit(X, y)"
      ]
    },
    {
      "cell_type": "code",
      "execution_count": null,
      "metadata": {
        "id": "S45GwfywVMIY",
        "outputId": "7fecec56-54db-40d8-bccd-fe20d7f27460",
        "colab": {
          "base_uri": "https://localhost:8080/"
        }
      },
      "outputs": [
        {
          "output_type": "execute_result",
          "data": {
            "text/plain": [
              "DecisionTreeClassifier(max_depth=5, random_state=0)"
            ]
          },
          "metadata": {},
          "execution_count": 94
        }
      ],
      "source": [
        "mod_tree"
      ]
    },
    {
      "cell_type": "markdown",
      "metadata": {
        "collapsed": false,
        "id": "B5H9XHZXVMIY"
      },
      "source": [
        "How can we summarize how well our model worked? Since we are classifying into categories, calculate the accuracy:"
      ]
    },
    {
      "cell_type": "code",
      "execution_count": null,
      "metadata": {
        "id": "Ehxl0bAfVMIY"
      },
      "outputs": [],
      "source": [
        "# Predict on same data\n",
        "preds = mod_tree.predict(X)\n",
        "# Create manual \"confusion matrix\"\n",
        "df_wpred = df.copy()\n",
        "df_wpred['pred'] = preds\n",
        "#pd.crosstab(index=df_wpred['pred'], columns=df_wpred['Presence'], normalize='index')\n",
        "#pd.crosstab(index=df_wpred['pred'], columns=df_wpred['Presence'])"
      ]
    },
    {
      "cell_type": "markdown",
      "metadata": {
        "collapsed": false,
        "id": "WyOkTAXtVMIZ"
      },
      "source": [
        "Of course, there's an automatic way to do this:"
      ]
    },
    {
      "cell_type": "code",
      "execution_count": null,
      "metadata": {
        "id": "vcxSYLt1VMIZ",
        "outputId": "a5d5acf3-3d34-4c59-d0d8-dd68359c709d",
        "colab": {
          "base_uri": "https://localhost:8080/"
        }
      },
      "outputs": [
        {
          "output_type": "execute_result",
          "data": {
            "text/plain": [
              "0.7981669637283197"
            ]
          },
          "metadata": {},
          "execution_count": 96
        }
      ],
      "source": [
        "# Accuracy\n",
        "mod_tree.score(X,y)"
      ]
    },
    {
      "cell_type": "code",
      "execution_count": null,
      "metadata": {
        "id": "l5rzBkgUVMIZ",
        "outputId": "1f735848-f799-41b3-9a93-bffdcd449a76",
        "colab": {
          "base_uri": "https://localhost:8080/"
        }
      },
      "outputs": [
        {
          "output_type": "execute_result",
          "data": {
            "text/plain": [
              "0.8472952310295222"
            ]
          },
          "metadata": {},
          "execution_count": 97
        }
      ],
      "source": [
        "(9497+84152)/(9497+84152+4056+12822)"
      ]
    },
    {
      "cell_type": "markdown",
      "metadata": {
        "collapsed": false,
        "id": "9E7fW1cEVMIZ"
      },
      "source": [
        "Is this a good, excellent, or poor accuracy?"
      ]
    },
    {
      "cell_type": "markdown",
      "source": [
        "How can we improve our model?"
      ],
      "metadata": {
        "id": "-5tE4rV_YPlH"
      }
    },
    {
      "cell_type": "markdown",
      "metadata": {
        "collapsed": false,
        "id": "WV-PtLzrVMIZ"
      },
      "source": [
        "Some may have noticed that we did not use all of the features in our dataset. Which did we leave out?\n",
        "\n",
        "The tree model _only_ takes numeric variables. So what do we do with something like Weekday? Well, in order to use the categorical variables, we need to transform them into numeric.\n",
        "\n",
        "The way we do this is by making dummy variables, also known as one-hoot-encoding. Do this for Gender, and WeekDay."
      ]
    },
    {
      "cell_type": "code",
      "execution_count": null,
      "metadata": {
        "id": "I5PjUPV6VMIZ"
      },
      "outputs": [],
      "source": [
        "# Change the class from \"object\" to categorical\n",
        "for col in ['Gender','WeekDay', 'Neighbourhood']:\n",
        "    df[col] = df[col].astype('category')\n",
        "# add dummy variables  \n",
        "df = pd.get_dummies(data=df,columns=['Gender','WeekDay'])"
      ]
    },
    {
      "cell_type": "markdown",
      "metadata": {
        "collapsed": false,
        "id": "aM7Yrl7aVMIa"
      },
      "source": [
        "Now, let's fit a second model with these features included."
      ]
    },
    {
      "cell_type": "code",
      "execution_count": null,
      "metadata": {
        "scrolled": true,
        "id": "-Us-2xycVMIa"
      },
      "outputs": [],
      "source": [
        "X_2 = df[[\n",
        "  'Gender_F',\n",
        "  'Gender_M',\n",
        " 'Age',\n",
        " #'Neighbourhood',\n",
        " 'Scholarship',\n",
        " 'Hypertension',\n",
        " 'Diabetes',\n",
        " 'Alcoholism',\n",
        " 'Handcap',\n",
        " 'SMSReceived',\n",
        " 'WaitingTimeDays',\n",
        " 'WeekDay_Monday',\n",
        " 'WeekDay_Tuesday',\n",
        " 'WeekDay_Wednesday',\n",
        " 'WeekDay_Thursday',\n",
        " 'WeekDay_Friday',\n",
        " 'WeekDay_Saturday'\n",
        "    ]]"
      ]
    },
    {
      "cell_type": "code",
      "execution_count": null,
      "metadata": {
        "id": "RMCkkbF5VMIa"
      },
      "outputs": [],
      "source": [
        "clf_2 = DecisionTreeClassifier(random_state=0,max_depth=5)\n",
        "mod_tree_2= clf_2.fit(X_2, y)"
      ]
    },
    {
      "cell_type": "code",
      "execution_count": null,
      "metadata": {
        "id": "clZYRhEhVMIb",
        "outputId": "3de1d9f8-3dec-44c0-c43f-037bd007f9f0",
        "colab": {
          "base_uri": "https://localhost:8080/"
        }
      },
      "outputs": [
        {
          "output_type": "execute_result",
          "data": {
            "text/plain": [
              "0.7980945832240086"
            ]
          },
          "metadata": {},
          "execution_count": 100
        }
      ],
      "source": [
        "mod_tree_2.score(X_2,y)"
      ]
    },
    {
      "cell_type": "code",
      "execution_count": null,
      "metadata": {
        "id": "uRUACZ8qVMIc",
        "outputId": "60dbf76e-7cdc-4834-f252-d32432825205",
        "colab": {
          "base_uri": "https://localhost:8080/"
        }
      },
      "outputs": [
        {
          "output_type": "execute_result",
          "data": {
            "text/plain": [
              "array(['Gender_F', 'Gender_M', 'Age', 'Scholarship', 'Hypertension',\n",
              "       'Diabetes', 'Alcoholism', 'Handcap', 'SMSReceived',\n",
              "       'WaitingTimeDays', 'WeekDay_Monday', 'WeekDay_Tuesday',\n",
              "       'WeekDay_Wednesday', 'WeekDay_Thursday', 'WeekDay_Friday',\n",
              "       'WeekDay_Saturday'], dtype=object)"
            ]
          },
          "metadata": {},
          "execution_count": 101
        }
      ],
      "source": [
        "mod_tree_2.feature_names_in_"
      ]
    },
    {
      "cell_type": "markdown",
      "metadata": {
        "collapsed": false,
        "id": "bsx9sDHIVMIc"
      },
      "source": [
        "Take a look at the tree using a text representation. What can you conclude?"
      ]
    },
    {
      "cell_type": "code",
      "execution_count": null,
      "metadata": {
        "id": "mX1PhdzlVMIc",
        "outputId": "616dc60e-4009-4f81-cbcc-7e80cbd2825d",
        "colab": {
          "base_uri": "https://localhost:8080/"
        }
      },
      "outputs": [
        {
          "output_type": "stream",
          "name": "stdout",
          "text": [
            "|--- feature_9 <= 0.50\n",
            "|   |--- feature_2 <= 20.50\n",
            "|   |   |--- feature_2 <= 6.50\n",
            "|   |   |   |--- feature_13 <= 0.50\n",
            "|   |   |   |   |--- feature_14 <= 0.50\n",
            "|   |   |   |   |   |--- class: Present\n",
            "|   |   |   |   |--- feature_14 >  0.50\n",
            "|   |   |   |   |   |--- class: Present\n",
            "|   |   |   |--- feature_13 >  0.50\n",
            "|   |   |   |   |--- feature_2 <= 1.50\n",
            "|   |   |   |   |   |--- class: Present\n",
            "|   |   |   |   |--- feature_2 >  1.50\n",
            "|   |   |   |   |   |--- class: Present\n",
            "|   |   |--- feature_2 >  6.50\n",
            "|   |   |   |--- feature_0 <= 0.50\n",
            "|   |   |   |   |--- feature_10 <= 0.50\n",
            "|   |   |   |   |   |--- class: Present\n",
            "|   |   |   |   |--- feature_10 >  0.50\n",
            "|   |   |   |   |   |--- class: Present\n",
            "|   |   |   |--- feature_0 >  0.50\n",
            "|   |   |   |   |--- feature_12 <= 0.50\n",
            "|   |   |   |   |   |--- class: Present\n",
            "|   |   |   |   |--- feature_12 >  0.50\n",
            "|   |   |   |   |   |--- class: Present\n",
            "|   |--- feature_2 >  20.50\n",
            "|   |   |--- feature_9 <= -0.50\n",
            "|   |   |   |--- class: Absent\n",
            "|   |   |--- feature_9 >  -0.50\n",
            "|   |   |   |--- feature_2 <= 30.50\n",
            "|   |   |   |   |--- feature_4 <= 0.50\n",
            "|   |   |   |   |   |--- class: Present\n",
            "|   |   |   |   |--- feature_4 >  0.50\n",
            "|   |   |   |   |   |--- class: Present\n",
            "|   |   |   |--- feature_2 >  30.50\n",
            "|   |   |   |   |--- feature_2 <= 96.50\n",
            "|   |   |   |   |   |--- class: Present\n",
            "|   |   |   |   |--- feature_2 >  96.50\n",
            "|   |   |   |   |   |--- class: Present\n",
            "|--- feature_9 >  0.50\n",
            "|   |--- feature_2 <= 46.50\n",
            "|   |   |--- feature_9 <= 9.50\n",
            "|   |   |   |--- feature_9 <= 4.50\n",
            "|   |   |   |   |--- feature_6 <= 0.50\n",
            "|   |   |   |   |   |--- class: Present\n",
            "|   |   |   |   |--- feature_6 >  0.50\n",
            "|   |   |   |   |   |--- class: Present\n",
            "|   |   |   |--- feature_9 >  4.50\n",
            "|   |   |   |   |--- feature_2 <= 12.50\n",
            "|   |   |   |   |   |--- class: Present\n",
            "|   |   |   |   |--- feature_2 >  12.50\n",
            "|   |   |   |   |   |--- class: Present\n",
            "|   |   |--- feature_9 >  9.50\n",
            "|   |   |   |--- feature_8 <= 0.50\n",
            "|   |   |   |   |--- feature_9 <= 21.50\n",
            "|   |   |   |   |   |--- class: Present\n",
            "|   |   |   |   |--- feature_9 >  21.50\n",
            "|   |   |   |   |   |--- class: Present\n",
            "|   |   |   |--- feature_8 >  0.50\n",
            "|   |   |   |   |--- feature_2 <= 0.50\n",
            "|   |   |   |   |   |--- class: Present\n",
            "|   |   |   |   |--- feature_2 >  0.50\n",
            "|   |   |   |   |   |--- class: Present\n",
            "|   |--- feature_2 >  46.50\n",
            "|   |   |--- feature_9 <= 9.50\n",
            "|   |   |   |--- feature_2 <= 58.50\n",
            "|   |   |   |   |--- feature_6 <= 0.50\n",
            "|   |   |   |   |   |--- class: Present\n",
            "|   |   |   |   |--- feature_6 >  0.50\n",
            "|   |   |   |   |   |--- class: Present\n",
            "|   |   |   |--- feature_2 >  58.50\n",
            "|   |   |   |   |--- feature_5 <= 0.50\n",
            "|   |   |   |   |   |--- class: Present\n",
            "|   |   |   |   |--- feature_5 >  0.50\n",
            "|   |   |   |   |   |--- class: Present\n",
            "|   |   |--- feature_9 >  9.50\n",
            "|   |   |   |--- feature_8 <= 0.50\n",
            "|   |   |   |   |--- feature_2 <= 56.50\n",
            "|   |   |   |   |   |--- class: Present\n",
            "|   |   |   |   |--- feature_2 >  56.50\n",
            "|   |   |   |   |   |--- class: Present\n",
            "|   |   |   |--- feature_8 >  0.50\n",
            "|   |   |   |   |--- feature_2 <= 59.50\n",
            "|   |   |   |   |   |--- class: Present\n",
            "|   |   |   |   |--- feature_2 >  59.50\n",
            "|   |   |   |   |   |--- class: Present\n",
            "\n"
          ]
        }
      ],
      "source": [
        "text_representation = tree.export_text(clf_2)\n",
        "print(text_representation)"
      ]
    },
    {
      "cell_type": "markdown",
      "metadata": {
        "collapsed": false,
        "id": "oVExnZHIVMIc"
      },
      "source": [
        "One important way to understand the model is with the *variable importance*. Although different models calculate it slightly differently, the idea is to rank features according to how useful they are in the prediction.\n",
        "\n",
        "Let's find it for our tree. Were all features helpful?"
      ]
    },
    {
      "cell_type": "code",
      "execution_count": null,
      "metadata": {
        "id": "oKoAohn9VMIc",
        "outputId": "8441bbd4-9d19-4c4d-94e0-3dd6417f3cc8",
        "colab": {
          "base_uri": "https://localhost:8080/"
        }
      },
      "outputs": [
        {
          "output_type": "stream",
          "name": "stdout",
          "text": [
            "[6.62822704e-03 0.00000000e+00 1.24830884e-01 0.00000000e+00\n",
            " 7.56771555e-05 7.79146587e-04 2.70345927e-03 0.00000000e+00\n",
            " 2.42847006e-02 8.36178997e-01 3.45851038e-03 0.00000000e+00\n",
            " 8.10612681e-04 1.03529920e-04 1.46255584e-04 0.00000000e+00]\n"
          ]
        }
      ],
      "source": [
        "importance = mod_tree_2.feature_importances_\n",
        "print(importance)"
      ]
    },
    {
      "cell_type": "code",
      "execution_count": null,
      "metadata": {
        "id": "ZXcmNpaEVMIc",
        "outputId": "d2d7ad90-2292-4ec2-cd0f-85c1def608e5",
        "colab": {
          "base_uri": "https://localhost:8080/"
        }
      },
      "outputs": [
        {
          "output_type": "stream",
          "name": "stdout",
          "text": [
            "                  Var  Importance\n",
            "0            Gender_F    0.006628\n",
            "1            Gender_M    0.000000\n",
            "2                 Age    0.124831\n",
            "3         Scholarship    0.000000\n",
            "4        Hypertension    0.000076\n",
            "5            Diabetes    0.000779\n",
            "6          Alcoholism    0.002703\n",
            "7             Handcap    0.000000\n",
            "8         SMSReceived    0.024285\n",
            "9     WaitingTimeDays    0.836179\n",
            "10     WeekDay_Monday    0.003459\n",
            "11    WeekDay_Tuesday    0.000000\n",
            "12  WeekDay_Wednesday    0.000811\n",
            "13   WeekDay_Thursday    0.000104\n",
            "14     WeekDay_Friday    0.000146\n",
            "15   WeekDay_Saturday    0.000000\n"
          ]
        }
      ],
      "source": [
        "# Put importance in a dataframe to make it readable\n",
        "importance_dat = {'Var':mod_tree_2.feature_names_in_,\n",
        "                  'Importance':importance}\n",
        "importance_dat = pd.DataFrame(importance_dat)\n",
        "print(importance_dat)"
      ]
    },
    {
      "cell_type": "markdown",
      "metadata": {
        "collapsed": false,
        "id": "sC5NozCNVMId"
      },
      "source": [
        "Let's fit a model with only the top most important variables. Does our accuracy change much?"
      ]
    },
    {
      "cell_type": "code",
      "execution_count": null,
      "metadata": {
        "scrolled": true,
        "id": "-wmxPg4kVMId",
        "outputId": "181a3699-e182-4296-d33c-fa3ab0c52642",
        "colab": {
          "base_uri": "https://localhost:8080/"
        }
      },
      "outputs": [
        {
          "output_type": "execute_result",
          "data": {
            "text/plain": [
              "0.7981307734761642"
            ]
          },
          "metadata": {},
          "execution_count": 105
        }
      ],
      "source": [
        "X_3 = df[[\n",
        " 'Age',\n",
        " 'WaitingTimeDays'\n",
        "    ]]\n",
        "clf_3 = DecisionTreeClassifier(random_state=0, max_depth=5)\n",
        "mod_tree_3 = clf_3.fit(X_3, y)\n",
        "mod_tree_3.score(X_3,y)"
      ]
    },
    {
      "cell_type": "markdown",
      "metadata": {
        "collapsed": false,
        "id": "uOhcuZ9HVMId"
      },
      "source": [
        "Pick one of the top variables, and make a plot. "
      ]
    },
    {
      "cell_type": "code",
      "execution_count": null,
      "metadata": {
        "id": "YNygCeuYVMId",
        "outputId": "929397f6-8855-461b-d379-7f23e434b966",
        "colab": {
          "base_uri": "https://localhost:8080/",
          "height": 392
        }
      },
      "outputs": [
        {
          "output_type": "stream",
          "name": "stderr",
          "text": [
            "/usr/local/lib/python3.7/dist-packages/matplotlib/cbook/__init__.py:1376: VisibleDeprecationWarning: Creating an ndarray from ragged nested sequences (which is a list-or-tuple of lists-or-tuples-or ndarrays with different lengths or shapes) is deprecated. If you meant to do this, you must specify 'dtype=object' when creating the ndarray.\n",
            "  X = np.atleast_1d(X.T if isinstance(X, np.ndarray) else np.asarray(X))\n"
          ]
        },
        {
          "output_type": "display_data",
          "data": {
            "text/plain": [
              "<Figure size 216x288 with 1 Axes>"
            ],
            "image/png": "[encoded data removed]"
          },
          "metadata": {
            "needs_background": "light"
          }
        }
      ],
      "source": [
        "# Boxplot of WaitingTimeDays by wheter appoointment was missed.\n",
        "\n",
        "days_abs = df[df['Presence']==\"Absent\"][\"WaitingTimeDays\"]\n",
        "days_pre = df[df['Presence']==\"Present\"][\"WaitingTimeDays\"]\n",
        "\n",
        "data = [days_abs, days_pre]\n",
        "\n",
        "fig = plt.figure(figsize =(3, 4))\n",
        "\n",
        "# Creating axes instance\n",
        "ax = fig.add_axes([0, 0, 1, 1])\n",
        "\n",
        "# x-axis labels\n",
        "ax.set_xticklabels(['Absent', 'Present'])\n",
        "\n",
        "# Creating plot\n",
        "bp = ax.boxplot(data)\n",
        "\n",
        "# show plot\n",
        "plt.show()"
      ]
    },
    {
      "cell_type": "code",
      "execution_count": null,
      "metadata": {
        "id": "YYMlTPMGVMId",
        "outputId": "023a5867-eef4-4126-9351-91332aad0e91",
        "colab": {
          "base_uri": "https://localhost:8080/"
        }
      },
      "outputs": [
        {
          "output_type": "stream",
          "name": "stdout",
          "text": [
            "|--- feature_1 <= 0.50\n",
            "|   |--- feature_0 <= 20.50\n",
            "|   |   |--- feature_0 <= 6.50\n",
            "|   |   |   |--- feature_0 <= 3.50\n",
            "|   |   |   |   |--- feature_0 <= 0.50\n",
            "|   |   |   |   |   |--- class: Present\n",
            "|   |   |   |   |--- feature_0 >  0.50\n",
            "|   |   |   |   |   |--- class: Present\n",
            "|   |   |   |--- feature_0 >  3.50\n",
            "|   |   |   |   |--- feature_0 <= 5.50\n",
            "|   |   |   |   |   |--- class: Present\n",
            "|   |   |   |   |--- feature_0 >  5.50\n",
            "|   |   |   |   |   |--- class: Present\n",
            "|   |   |--- feature_0 >  6.50\n",
            "|   |   |   |--- feature_0 <= 17.50\n",
            "|   |   |   |   |--- feature_1 <= -0.50\n",
            "|   |   |   |   |   |--- class: Absent\n",
            "|   |   |   |   |--- feature_1 >  -0.50\n",
            "|   |   |   |   |   |--- class: Present\n",
            "|   |   |   |--- feature_0 >  17.50\n",
            "|   |   |   |   |--- feature_1 <= -0.50\n",
            "|   |   |   |   |   |--- class: Absent\n",
            "|   |   |   |   |--- feature_1 >  -0.50\n",
            "|   |   |   |   |   |--- class: Present\n",
            "|   |--- feature_0 >  20.50\n",
            "|   |   |--- feature_1 <= -0.50\n",
            "|   |   |   |--- class: Absent\n",
            "|   |   |--- feature_1 >  -0.50\n",
            "|   |   |   |--- feature_0 <= 30.50\n",
            "|   |   |   |   |--- feature_0 <= 28.50\n",
            "|   |   |   |   |   |--- class: Present\n",
            "|   |   |   |   |--- feature_0 >  28.50\n",
            "|   |   |   |   |   |--- class: Present\n",
            "|   |   |   |--- feature_0 >  30.50\n",
            "|   |   |   |   |--- feature_0 <= 96.50\n",
            "|   |   |   |   |   |--- class: Present\n",
            "|   |   |   |   |--- feature_0 >  96.50\n",
            "|   |   |   |   |   |--- class: Present\n",
            "|--- feature_1 >  0.50\n",
            "|   |--- feature_0 <= 46.50\n",
            "|   |   |--- feature_1 <= 9.50\n",
            "|   |   |   |--- feature_1 <= 4.50\n",
            "|   |   |   |   |--- feature_1 <= 1.50\n",
            "|   |   |   |   |   |--- class: Present\n",
            "|   |   |   |   |--- feature_1 >  1.50\n",
            "|   |   |   |   |   |--- class: Present\n",
            "|   |   |   |--- feature_1 >  4.50\n",
            "|   |   |   |   |--- feature_0 <= 12.50\n",
            "|   |   |   |   |   |--- class: Present\n",
            "|   |   |   |   |--- feature_0 >  12.50\n",
            "|   |   |   |   |   |--- class: Present\n",
            "|   |   |--- feature_1 >  9.50\n",
            "|   |   |   |--- feature_0 <= 0.50\n",
            "|   |   |   |   |--- feature_1 <= 45.50\n",
            "|   |   |   |   |   |--- class: Present\n",
            "|   |   |   |   |--- feature_1 >  45.50\n",
            "|   |   |   |   |   |--- class: Present\n",
            "|   |   |   |--- feature_0 >  0.50\n",
            "|   |   |   |   |--- feature_1 <= 21.50\n",
            "|   |   |   |   |   |--- class: Present\n",
            "|   |   |   |   |--- feature_1 >  21.50\n",
            "|   |   |   |   |   |--- class: Present\n",
            "|   |--- feature_0 >  46.50\n",
            "|   |   |--- feature_1 <= 9.50\n",
            "|   |   |   |--- feature_0 <= 58.50\n",
            "|   |   |   |   |--- feature_1 <= 7.50\n",
            "|   |   |   |   |   |--- class: Present\n",
            "|   |   |   |   |--- feature_1 >  7.50\n",
            "|   |   |   |   |   |--- class: Present\n",
            "|   |   |   |--- feature_0 >  58.50\n",
            "|   |   |   |   |--- feature_0 <= 108.50\n",
            "|   |   |   |   |   |--- class: Present\n",
            "|   |   |   |   |--- feature_0 >  108.50\n",
            "|   |   |   |   |   |--- class: Absent\n",
            "|   |   |--- feature_1 >  9.50\n",
            "|   |   |   |--- feature_0 <= 59.50\n",
            "|   |   |   |   |--- feature_1 <= 60.50\n",
            "|   |   |   |   |   |--- class: Present\n",
            "|   |   |   |   |--- feature_1 >  60.50\n",
            "|   |   |   |   |   |--- class: Present\n",
            "|   |   |   |--- feature_0 >  59.50\n",
            "|   |   |   |   |--- feature_0 <= 81.50\n",
            "|   |   |   |   |   |--- class: Present\n",
            "|   |   |   |   |--- feature_0 >  81.50\n",
            "|   |   |   |   |   |--- class: Present\n",
            "\n"
          ]
        }
      ],
      "source": [
        "text_representation = tree.export_text(clf_3)\n",
        "print(text_representation)"
      ]
    },
    {
      "cell_type": "markdown",
      "source": [
        "Other tree visualizations: https://towardsdatascience.com/visualizing-decision-trees-with-python-scikit-learn-graphviz-matplotlib-1c50b4aa68dc"
      ],
      "metadata": {
        "id": "QBYlQsQPZej4"
      }
    },
    {
      "cell_type": "markdown",
      "metadata": {
        "collapsed": false,
        "id": "wfazi8S1VMId"
      },
      "source": [
        "### What about SMS?\n",
        "\n",
        "This clinic has been trying to mitigate this problem, and started sending SMS (text messages) to some of its patients. Did that effort work? In this analysis it was not one of the most important variables. Does that mean they should stop? Why or why not?"
      ]
    },
    {
      "cell_type": "markdown",
      "metadata": {
        "collapsed": false,
        "id": "WKsX_RbAVMId"
      },
      "source": [
        "### Extensions\n",
        "Another model we can use when we have only two variables is logistic regression. This is a very powerful model when we have smaller data, and produces interpretable results. Beware that the default implementation is a _penalized_ logistic regression.\n",
        "\n",
        "For any model, we will similarly look at accuracy, and variable importance. Other metrics such as recall and precision (or sensitivity and specificity) can be quite useful.\n",
        "\n",
        "One aspect we did not cover here is cross validation. In reality, we would want to make sure we train the model with one subset of the data, and test the accuracy of another. Otherwise, we are very likely to over-fit and get a high accuracy that is not actually representative of how the model would perform with new data.\n"
      ]
    },
    {
      "cell_type": "markdown",
      "metadata": {
        "collapsed": false,
        "id": "3d0_PgWPVMIe"
      },
      "source": [
        "## Wrap up\n",
        "\n",
        "This was only a glimpse into what we could do in an analysis of this dataset. If you'd like to see other analyses, go to the Kaggle repository ( https://www.kaggle.com/joniarroba/noshowappointments/code)."
      ]
    }
  ],
  "metadata": {
    "kernelspec": {
      "display_name": "Python 3 (system-wide)",
      "language": "python",
      "metadata": {
        "cocalc": {
          "description": "Python 3 programming language",
          "priority": 100,
          "url": "https://www.python.org/"
        }
      },
      "name": "python3",
      "resource_dir": "/ext/jupyter/kernels/python3"
    },
    "language_info": {
      "codemirror_mode": {
        "name": "ipython",
        "version": 3
      },
      "file_extension": ".py",
      "mimetype": "text/x-python",
      "name": "python",
      "nbconvert_exporter": "python",
      "pygments_lexer": "ipython3",
      "version": "3.8.10"
    },
    "colab": {
      "provenance": []
    }
  },
  "nbformat": 4,
  "nbformat_minor": 0
}
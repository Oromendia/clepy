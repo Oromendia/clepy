{
 "cells": [
  {
   "cell_type": "markdown",
   "metadata": {
    "collapsed": false
   },
   "source": [
    "## Welcome!\n",
    "\n",
    "The goal for today is to introduce data analysis through an applied project. Given the variety in experience in this group, three options are available for you:\n",
    "\n",
    "1. Beginner: We will work through this file together, line by line, as I explain reasoning and answer questions as we go along.\n",
    "2. Experienced: You independently work through `appointments_skeleton.ipynb`,  a file similar to this one but without the answers. \n",
    "3. Independent: Using the MIMIC2 ICU data, predict mortality or length of stay (https://www.kaggle.com/drscarlat/mimic2-original-icu/version/1).\n",
    "\n",
    "We will reconvene as a group at 7:30 and share what each one did, debrief on learnings, and answer any remaining questions.\n",
    "\n",
    "Choose your adventure!\n",
    "\n",
    "------\n",
    "\n",
    "## Missed Appointments\n",
    "\n",
    "A clinic is in trouble, as they have been wasting resources every month when staff is available but rooms are empty. We have been tasked with understanding why people who receive treatment instructions do not show up at the next appointment time. How often are patients missing appointments? Who is missing most often? What are the contributing factors for missing appointments?\n",
    "\n",
    "This example is based on a Kaggle dataset and strongly inspired by Veronika Rovnik's blog post.\n",
    "\n",
    "Blog: https://towardsdatascience.com/exploratory-analysis-python-kaggle-data-b0afb6ec1788\n",
    "\n",
    "Data: https://www.kaggle.com/joniarroba/noshowappointments"
   ]
  },
  {
   "cell_type": "markdown",
   "metadata": {
    "collapsed": false
   },
   "source": [
    "## Set up\n",
    "We start by importing the main libraries we will use. The big one for data munging is `pandas`."
   ]
  },
  {
   "cell_type": "code",
   "execution_count": 0,
   "metadata": {
    "collapsed": false
   },
   "outputs": [
   ],
   "source": [
   ]
  },
  {
   "cell_type": "markdown",
   "metadata": {
    "collapsed": false
   },
   "source": [
    "### Read in data\n",
    "After you’ve downloaded the data from Kaggle, the next step is to build a pandas DataFrame based on the CSV data."
   ]
  },
  {
   "cell_type": "code",
   "execution_count": 0,
   "metadata": {
    "collapsed": false
   },
   "outputs": [
   ],
   "source": [
   ]
  },
  {
   "cell_type": "markdown",
   "metadata": {
    "collapsed": false
   },
   "source": [
    "### Profile the data\n",
    "Before cleaning the data, let’s check the overall quality of the data and data types of each column.\n",
    "What columns does the data have? How many patients are available?"
   ]
  },
  {
   "cell_type": "code",
   "execution_count": 0,
   "metadata": {
    "collapsed": false
   },
   "outputs": [
   ],
   "source": [
   ]
  },
  {
   "cell_type": "markdown",
   "metadata": {
    "collapsed": false
   },
   "source": [
    "In our analysis, what is the primary ouotcome, or the characteristic of interest?"
   ]
  },
  {
   "cell_type": "markdown",
   "metadata": {
    "collapsed": false
   },
   "source": [
    "The columns are called \"features\" of the data. They are also called \"covariates\", \"predictors\", or even \"correlates\". These are the characteristics we will use to estimate our primary outcome."
   ]
  },
  {
   "cell_type": "markdown",
   "metadata": {
    "collapsed": false
   },
   "source": [
    "### Fix the column names\n",
    "You may have noticed that our features contain typing errors.\n",
    "Let’s rename misspelled column names."
   ]
  },
  {
   "cell_type": "code",
   "execution_count": 0,
   "metadata": {
    "collapsed": false
   },
   "outputs": [
   ],
   "source": [
   ]
  },
  {
   "cell_type": "markdown",
   "metadata": {
    "collapsed": false
   },
   "source": [
    "### Cleaning & preparing the data content\n",
    "Cleaning the data is an art that should be mastered in the first place before starting any data science or machine learning project. It makes data easier to investigate and build visualizations. Through this process you will also start to \"get to know\" your data, and therefore understand how to best levarage it during modeling.\n",
    "\n",
    "\n",
    "After you’ve checked the data types of features, you may have noticed that `ScheduledDay` and `AppointmentDay` features have an `object` data type.\n",
    "To make dealing with date features easies, let’s convert the type of ‘ScheduledDay’ and ‘AppointmentDay’ to `datetime64[ns]`. You need this to get access to useful methods and attributes."
   ]
  },
  {
   "cell_type": "code",
   "execution_count": 0,
   "metadata": {
    "collapsed": false
   },
   "outputs": [
   ],
   "source": [
   ]
  },
  {
   "cell_type": "markdown",
   "metadata": {
    "collapsed": false
   },
   "source": [
    "We can also rename “No-show” column to “Presence” and its values to ‘Present’ and ‘Absent’ so as to avoid any misinterpretation."
   ]
  },
  {
   "cell_type": "code",
   "execution_count": 0,
   "metadata": {
    "collapsed": false
   },
   "outputs": [
   ],
   "source": [
   ]
  },
  {
   "cell_type": "markdown",
   "metadata": {
    "collapsed": false
   },
   "source": [
    "## Feature engineering\n",
    "Now that the data we have is neatly organized, let's go back to our goal: To understand why people who receive treatment instructions do not show up at the next appointment time. In other words, what are the contributing factors for missing appointments?\n",
    "\n",
    "Given this goal, we ask ourselves: is there something we can calculate from what we have that will help us more directly answer the question? This is called _feature engineering_. Feature engineering refers to the process of using domain knowledge to select and transform the most relevant variables from raw data when creating a predictive model using machine learning or statistical modeling.\n",
    "\n",
    "In this case, we have the date the appointment was scheduled and the date of the actual appointment, but what may be helpful is the **time** between these two. So, we can add a new feature to the dataset — ‘Waiting Time Days’ to note how long the patient needs to wait for the appointment day."
   ]
  },
  {
   "cell_type": "code",
   "execution_count": 0,
   "metadata": {
    "collapsed": false
   },
   "outputs": [
   ],
   "source": [
   ]
  },
  {
   "cell_type": "markdown",
   "metadata": {
    "collapsed": false
   },
   "source": [
    "We could also believe that the day of the week may matter. Let's add that."
   ]
  },
  {
   "cell_type": "code",
   "execution_count": 0,
   "metadata": {
    "collapsed": false
   },
   "outputs": [
   ],
   "source": [
   ]
  },
  {
   "cell_type": "code",
   "execution_count": 0,
   "metadata": {
    "collapsed": false
   },
   "outputs": [
   ],
   "source": [
    "# A quick sanity check the resulting variable:\n"
   ]
  },
  {
   "cell_type": "code",
   "execution_count": 0,
   "metadata": {
    "collapsed": false
   },
   "outputs": [
   ],
   "source": [
   ]
  },
  {
   "cell_type": "markdown",
   "metadata": {
    "collapsed": false
   },
   "source": [
    "\"Feature engineering\" may sound boring and inconsequential, but it is actually an essential step in any analysis. On a per-hour (and certainly per-computation), it is orders of magnitude more impactful than model parameter tuning. Also note that the term feature engineering is mostly used in macchine learning. In other fields it is just a part of the \"data wrangling\" or \"data preparation\" process.\n",
    "\n",
    "Here is a great article with more details and examples: https://medium.com/@mortenjorgensen_16022/feature-engineering-the-secret-sauce-to-applied-machine-learning-e61ac5963405"
   ]
  },
  {
   "cell_type": "markdown",
   "metadata": {
    "collapsed": false
   },
   "source": [
    "## Check for Missing Data\n",
    "\n",
    "Before going any further, let’s see if there are null values in each column."
   ]
  },
  {
   "cell_type": "code",
   "execution_count": 0,
   "metadata": {
    "collapsed": false
   },
   "outputs": [
   ],
   "source": [
   ]
  },
  {
   "cell_type": "markdown",
   "metadata": {
    "collapsed": false
   },
   "source": [
    "We are lucky (and rather unrealistic) — there are no null values in our dataset! \n",
    "\n",
    "What would we have done if there were missing values? What effect would that choice have had in our future conclusions?\n"
   ]
  },
  {
   "cell_type": "markdown",
   "metadata": {
    "collapsed": false
   },
   "source": [
    "## Exploratory Analysis\n",
    "We can now get a bit deeper into each variable (or feature) and see what kind of patients we have.\n",
    "\n",
    "For numeric variables we can get a quick sense of what's happening with a table showing numeric summaries for each.\n",
    "_What 3 things can you learn about the data from this table?_"
   ]
  },
  {
   "cell_type": "code",
   "execution_count": 0,
   "metadata": {
    "collapsed": false,
    "scrolled": true
   },
   "outputs": [
   ],
   "source": [
   ]
  },
  {
   "cell_type": "markdown",
   "metadata": {
    "collapsed": false
   },
   "source": [
    "For categorical variables, we can count the number in each group:"
   ]
  },
  {
   "cell_type": "code",
   "execution_count": 0,
   "metadata": {
    "collapsed": false
   },
   "outputs": [
   ],
   "source": [
   ]
  },
  {
   "cell_type": "markdown",
   "metadata": {
    "collapsed": false
   },
   "source": [
    "This is helpful, but we care more about the relative counts (percentages):"
   ]
  },
  {
   "cell_type": "code",
   "execution_count": 0,
   "metadata": {
    "collapsed": false
   },
   "outputs": [
   ],
   "source": [
    "# presence"
   ]
  },
  {
   "cell_type": "code",
   "execution_count": 0,
   "metadata": {
    "collapsed": false
   },
   "outputs": [
   ],
   "source": [
    "# neighborhood"
   ]
  },
  {
   "cell_type": "code",
   "execution_count": 0,
   "metadata": {
    "collapsed": false
   },
   "outputs": [
   ],
   "source": [
    "# gender"
   ]
  },
  {
   "cell_type": "markdown",
   "metadata": {
    "collapsed": false
   },
   "source": [
    "We can also make a bar plot of Presence: "
   ]
  },
  {
   "cell_type": "code",
   "execution_count": 0,
   "metadata": {
    "collapsed": false
   },
   "outputs": [
   ],
   "source": [
   ]
  },
  {
   "cell_type": "markdown",
   "metadata": {
    "collapsed": false
   },
   "source": [
    "### Data Analysis\n",
    "We now get into some variable relationships. Remember our question: who is missing appointments?\n",
    "\n",
    "Let's look at the weekday variable we created. Are people more likely to miss an appointment on certain days?\n",
    "\n",
    "Which day has the most missed appointments?\n"
   ]
  },
  {
   "cell_type": "code",
   "execution_count": 0,
   "metadata": {
    "collapsed": false
   },
   "outputs": [
   ],
   "source": [
   ]
  },
  {
   "cell_type": "code",
   "execution_count": 0,
   "metadata": {
    "collapsed": false
   },
   "outputs": [
   ],
   "source": [
   ]
  },
  {
   "cell_type": "markdown",
   "metadata": {
    "collapsed": false
   },
   "source": [
    "What can we learn from this plot?\n",
    "We see that Saturday and Thursday have the two fewest missed appointments. Does that mean that Saturday patients are the most compliant?\n",
    "\n",
    "Let's look at the data a different way, as a table of proportion of missed appointments by day oof week:"
   ]
  },
  {
   "cell_type": "code",
   "execution_count": 0,
   "metadata": {
    "collapsed": false
   },
   "outputs": [
   ],
   "source": [
   ]
  },
  {
   "cell_type": "markdown",
   "metadata": {
    "collapsed": false
   },
   "source": [
    "What does the table tell us? Do you prefer the table or the plot?"
   ]
  },
  {
   "cell_type": "markdown",
   "metadata": {
    "collapsed": false
   },
   "source": [
    "While the barplot above is not \"wrong\", it does not answer the question we have, and can actually be misleading. What would be a better barplot?"
   ]
  },
  {
   "cell_type": "code",
   "execution_count": 0,
   "metadata": {
    "collapsed": false
   },
   "outputs": [
   ],
   "source": [
   ]
  },
  {
   "cell_type": "code",
   "execution_count": 0,
   "metadata": {
    "collapsed": false
   },
   "outputs": [
   ],
   "source": [
   ]
  },
  {
   "cell_type": "markdown",
   "metadata": {
    "collapsed": false
   },
   "source": [
    "Take 5 minutes and decide two more plots you'd like to make with this dataset to get to know it better. You do not have to actually code them (unless you want). The act of thinking through what would be helpful is crucial, and is often overlooked, and we get caught up in the joy of coding.\n",
    "\n",
    "\n",
    "\n",
    "_One plot would be ..._\n",
    "\n",
    "_Another plot would be ..._"
   ]
  },
  {
   "cell_type": "markdown",
   "metadata": {
    "collapsed": false
   },
   "source": [
    "### Model\n",
    "\n",
    "Ok! So now we have a sense of the data available, and in broad stokes what is going on.\n",
    "\n",
    "Let's return to our question. A helpful technique to go from a business or scientific question to something we can create a model for is to rephrase our question probabilistically. In this case we could ask: _what is the expected probability patient A will miss the next an appointment?_\n",
    "\n",
    "To start, let's say we know nothing else about the patient. What is our best guess of this probability?"
   ]
  },
  {
   "cell_type": "markdown",
   "metadata": {
    "collapsed": false
   },
   "source": [
    "_The best guess is the overall proportion of patients who missed an appointment, 20%_\n"
   ]
  },
  {
   "cell_type": "markdown",
   "metadata": {
    "collapsed": false
   },
   "source": [
    "Now, I tell you that the appointment is scheduled for a Saturday. Do you update your guess?\n"
   ]
  },
  {
   "cell_type": "markdown",
   "metadata": {
    "collapsed": false
   },
   "source": [
    "_Yes, now my guess is the overall average for Saturday appointments, which is 23%_"
   ]
  },
  {
   "cell_type": "markdown",
   "metadata": {
    "collapsed": false
   },
   "source": [
    "Finally, I tell you that the patient is female, and all sorts of other characteristics. How would you update your guess now?"
   ]
  },
  {
   "cell_type": "markdown",
   "metadata": {
    "collapsed": false
   },
   "source": [
    "_With several characteristics, we can't use contingency tables and instead move to statistical models, or use machines to do our learning :)_"
   ]
  },
  {
   "cell_type": "markdown",
   "metadata": {
    "collapsed": false
   },
   "source": [
    "#### Decision Tree\n",
    "\n",
    "One very powerful model is a `decision tree`. This framework is useful for non-linear relationships between features, when a regression may not be flexible enough. It also produces a very explainable model.\n",
    "\n",
    "Great summary of trees and figures: https://mljar.com/blog/visualize-decision-tree/"
   ]
  },
  {
   "cell_type": "markdown",
   "metadata": {
    "collapsed": false
   },
   "source": [
    "Start by creating `X`, a subset of `df` with the *predictors* to use. Also create Y, with only the outcome:"
   ]
  },
  {
   "cell_type": "code",
   "execution_count": 0,
   "metadata": {
    "collapsed": false
   },
   "outputs": [
   ],
   "source": [
   ]
  },
  {
   "cell_type": "code",
   "execution_count": 0,
   "metadata": {
    "collapsed": false
   },
   "outputs": [
   ],
   "source": [
    "Now, instantiate the tree and fit the model."
   ]
  },
  {
   "cell_type": "code",
   "execution_count": 0,
   "metadata": {
    "collapsed": false
   },
   "outputs": [
   ],
   "source": [
   ]
  },
  {
   "cell_type": "code",
   "execution_count": 0,
   "metadata": {
    "collapsed": false,
    "scrolled": true
   },
   "outputs": [
   ],
   "source": [
   ]
  },
  {
   "cell_type": "code",
   "execution_count": 0,
   "metadata": {
    "collapsed": false
   },
   "outputs": [
   ],
   "source": [
   ]
  },
  {
   "cell_type": "markdown",
   "metadata": {
    "collapsed": false
   },
   "source": [
    "How can we summarize how well our model worked? Since we are classifying into categories, calculate the accuracy:"
   ]
  },
  {
   "cell_type": "code",
   "execution_count": 0,
   "metadata": {
    "collapsed": false
   },
   "outputs": [
   ],
   "source": [
   ]
  },
  {
   "cell_type": "markdown",
   "metadata": {
    "collapsed": false
   },
   "source": [
    "Of course, there's an automatic way to do this:"
   ]
  },
  {
   "cell_type": "code",
   "execution_count": 0,
   "metadata": {
    "collapsed": false
   },
   "outputs": [
   ],
   "source": [
   ]
  },
  {
   "cell_type": "code",
   "execution_count": 0,
   "metadata": {
    "collapsed": false
   },
   "outputs": [
   ],
   "source": [
   ]
  },
  {
   "cell_type": "markdown",
   "metadata": {
    "collapsed": false
   },
   "source": [
    "Is this a good, excellent, or poor accuracy?"
   ]
  },
  {
   "cell_type": "markdown",
   "metadata": {
    "collapsed": false
   },
   "source": [
    "How can we improve our model?"
   ]
  },
  {
   "cell_type": "markdown",
   "metadata": {
    "collapsed": false
   },
   "source": [
    "Some may have noticed that we did not use all of the features in our dataset. Which did we leave out?\n",
    "\n",
    "The tree model _only_ takes numeric variables. So what do we do with something like Weekday? Well, in order to use the categorical variables, we need to transform them into numeric.\n",
    "\n",
    "The way we do this is by making dummy variables, also known as one-hoot-encoding. Do this for Gender, and WeekDay."
   ]
  },
  {
   "cell_type": "code",
   "execution_count": 0,
   "metadata": {
    "collapsed": false
   },
   "outputs": [
   ],
   "source": [
   ]
  },
  {
   "cell_type": "markdown",
   "metadata": {
    "collapsed": false
   },
   "source": [
    "Now, let's fit a second model with these features included."
   ]
  },
  {
   "cell_type": "code",
   "execution_count": 0,
   "metadata": {
    "collapsed": false,
    "scrolled": true
   },
   "outputs": [
   ],
   "source": [
   ]
  },
  {
   "cell_type": "code",
   "execution_count": 0,
   "metadata": {
    "collapsed": false
   },
   "outputs": [
   ],
   "source": [
   ]
  },
  {
   "cell_type": "code",
   "execution_count": 0,
   "metadata": {
    "collapsed": false
   },
   "outputs": [
   ],
   "source": [
   ]
  },
  {
   "cell_type": "code",
   "execution_count": 0,
   "metadata": {
    "collapsed": false
   },
   "outputs": [
   ],
   "source": [
   ]
  },
  {
   "cell_type": "markdown",
   "metadata": {
    "collapsed": false
   },
   "source": [
    "Take a look at the tree using a text representation. What can you conclude?"
   ]
  },
  {
   "cell_type": "code",
   "execution_count": 0,
   "metadata": {
    "collapsed": false
   },
   "outputs": [
   ],
   "source": [
   ]
  },
  {
   "cell_type": "markdown",
   "metadata": {
    "collapsed": false
   },
   "source": [
    "One important way to understand the model is with the *variable importance*. Although different models calculate it slightly differently, the idea is to rank features according to how useful they are in the prediction.\n",
    "\n",
    "Let's find it for our tree. Were all features helpful?"
   ]
  },
  {
   "cell_type": "code",
   "execution_count": 0,
   "metadata": {
    "collapsed": false
   },
   "outputs": [
   ],
   "source": [
   ]
  },
  {
   "cell_type": "code",
   "execution_count": 0,
   "metadata": {
    "collapsed": false
   },
   "outputs": [
   ],
   "source": [
   ]
  },
  {
   "cell_type": "markdown",
   "metadata": {
    "collapsed": false
   },
   "source": [
    "Let's fit a model with only the top most important variables. Does our accuracy change much?"
   ]
  },
  {
   "cell_type": "code",
   "execution_count": 0,
   "metadata": {
    "collapsed": false,
    "scrolled": true
   },
   "outputs": [
   ],
   "source": [
   ]
  },
  {
   "cell_type": "markdown",
   "metadata": {
    "collapsed": false
   },
   "source": [
    "Pick one of the top variables, and make a plot. "
   ]
  },
  {
   "cell_type": "code",
   "execution_count": 0,
   "metadata": {
    "collapsed": false
   },
   "outputs": [
   ],
   "source": [
   ]
  },
  {
   "cell_type": "code",
   "execution_count": 0,
   "metadata": {
    "collapsed": false
   },
   "outputs": [
   ],
   "source": [
   ]
  },
  {
   "cell_type": "markdown",
   "metadata": {
    "collapsed": false
   },
   "source": [
    "Other tree visualizations: https://towardsdatascience.com/visualizing-decision-trees-with-python-scikit-learn-graphviz-matplotlib-1c50b4aa68dc"
   ]
  },
  {
   "cell_type": "code",
   "execution_count": 0,
   "metadata": {
    "collapsed": false
   },
   "outputs": [
   ],
   "source": [
    "### What about SMS?\n",
    "\n",
    "This clinic has been trying to mitigate this problem, and started sending SMS (text messages) to some of its patients. Did that effort work? In this analysis it was not one of the most important variables. Does that mean they should stop? Why or why not?"
   ]
  },
  {
   "cell_type": "markdown",
   "metadata": {
    "collapsed": false
   },
   "source": [
    "### Extensions\n",
    "Another model we can use when we have only two variables is logistic regression. This is a very powerful model when we have smaller data, and produces interpretable results. Beware that the default implementation is a _penalized_ logistic regression.\n",
    "\n",
    "For any model, we will similarly look at accuracy, and variable importance. Other metrics such as recall and precision (or sensitivity and specificity) can be quite useful.\n",
    "\n",
    "One aspect we did not cover here is cross validation. In reality, we would want to make sure we train the model with one subset of the data, and test the accuracy of another. Otherwise, we are very likely to over-fit and get a high accuracy that is not actually representative of how the model would perform with new data.\n"
   ]
  },
  {
   "cell_type": "markdown",
   "metadata": {
    "collapsed": false
   },
   "source": [
    "## Wrap up\n",
    "\n",
    "This was only a glimpse into what we could do in an analysis of this dataset. If you'd like to see other analyses, go to the Kaggle repository ( https://www.kaggle.com/joniarroba/noshowappointments/code)."
   ]
  }
 ],
 "metadata": {
  "kernelspec": {
   "display_name": "Python 3 (system-wide)",
   "language": "python",
   "metadata": {
    "cocalc": {
     "description": "Python 3 programming language",
     "priority": 100,
     "url": "https://www.python.org/"
    }
   },
   "name": "python3",
   "resource_dir": "/ext/jupyter/kernels/python3"
  },
  "language_info": {
   "codemirror_mode": {
    "name": "ipython",
    "version": 3
   },
   "file_extension": ".py",
   "mimetype": "text/x-python",
   "name": "python",
   "nbconvert_exporter": "python",
   "pygments_lexer": "ipython3",
   "version": "3.8.10"
  }
 },
 "nbformat": 4,
 "nbformat_minor": 4
}